{
 "cells": [
  {
   "cell_type": "markdown",
   "metadata": {
    "deletable": true,
    "editable": true
   },
   "source": [
    "# Treponema genome analysis workflow - Grillova et al. 2019"
   ]
  },
  {
   "cell_type": "markdown",
   "metadata": {
    "deletable": true,
    "editable": true
   },
   "source": [
    "## The environment"
   ]
  },
  {
   "cell_type": "markdown",
   "metadata": {
    "deletable": true,
    "editable": true
   },
   "source": [
    "### Tested software versions and operation system"
   ]
  },
  {
   "cell_type": "markdown",
   "metadata": {
    "deletable": true,
    "editable": true
   },
   "source": [
    "The workflows has been tested on Linux machine (Ubuntu 16.04) with Python 2.7.6, Python 3.4.3 using Conda 4.5.11, Jupyter notebook 5.7.2 and bash_kernel 0.7.1."
   ]
  },
  {
   "cell_type": "code",
   "execution_count": 1,
   "metadata": {
    "collapsed": false,
    "deletable": true,
    "editable": true
   },
   "outputs": [
    {
     "name": "stdout",
     "output_type": "stream",
     "text": [
      "Linux BioDA-server 4.4.0-148-generic #174-Ubuntu SMP Tue May 7 12:20:14 UTC 2019 x86_64 x86_64 x86_64 GNU/Linux\n",
      "Python 2.7.12\n",
      "Python 3.7.1\n",
      "The program 'pip3' is currently not installed. To run 'pip3' please ask your administrator to install the package 'python3-pip'\n",
      "conda 4.6.14\n",
      "Jupyter notebook 4.4.1\n",
      "The program 'pip3' is currently not installed. To run 'pip3' please ask your administrator to install the package 'python3-pip'\n",
      "bash_kernel\n"
     ]
    }
   ],
   "source": [
    "uname -a\n",
    "lsb_release -a\n",
    "python --version\n",
    "python3 --version\n",
    "pip3 --version\n",
    "conda --version\n",
    "echo \"Jupyter notebook\" `jupyter notebook --version`\n",
    "echo \"bash_kernel\" `pip3 show bash_kernel | grep Version`"
   ]
  },
  {
   "cell_type": "markdown",
   "metadata": {
    "deletable": true,
    "editable": true
   },
   "source": [
    "## The analysis"
   ]
  },
  {
   "cell_type": "markdown",
   "metadata": {
    "deletable": true,
    "editable": true
   },
   "source": [
    "First, we can activate the environment and check "
   ]
  },
  {
   "cell_type": "code",
   "execution_count": 2,
   "metadata": {
    "collapsed": false,
    "deletable": true,
    "editable": true
   },
   "outputs": [
    {
     "name": "stdout",
     "output_type": "stream",
     "text": [
      "(.env) (.env) \n",
      "     active environment : None\n",
      "       user config file : /mnt/nfs/home/325073/000000-My_Documents/VM-home/.condarc\n",
      " populated config files : /mnt/nfs/home/325073/000000-My_Documents/VM-home/.condarc\n",
      "          conda version : 4.6.14\n",
      "    conda-build version : 3.17.6\n",
      "         python version : 3.7.1.final.0\n",
      "       base environment : /mnt/ssd/ssd_2/install/dir/anaconda  (writable)\n",
      "           channel URLs : https://conda.anaconda.org/conda-forge/linux-64\n",
      "                          https://conda.anaconda.org/conda-forge/noarch\n",
      "                          https://repo.anaconda.com/pkgs/main/linux-64\n",
      "                          https://repo.anaconda.com/pkgs/main/noarch\n",
      "                          https://repo.anaconda.com/pkgs/free/linux-64\n",
      "                          https://repo.anaconda.com/pkgs/free/noarch\n",
      "                          https://repo.anaconda.com/pkgs/r/linux-64\n",
      "                          https://repo.anaconda.com/pkgs/r/noarch\n",
      "                          https://conda.anaconda.org/r/linux-64\n",
      "                          https://conda.anaconda.org/r/noarch\n",
      "                          https://conda.anaconda.org/bioconda/linux-64\n",
      "                          https://conda.anaconda.org/bioconda/noarch\n",
      "          package cache : /mnt/ssd/ssd_2/install/dir/anaconda/pkgs\n",
      "                          /mnt/nfs/home/325073/000000-My_Documents/VM-home/.conda/pkgs\n",
      "       envs directories : /mnt/ssd/ssd_2/install/dir/anaconda/envs\n",
      "                          /mnt/nfs/home/325073/000000-My_Documents/VM-home/.conda/envs\n",
      "               platform : linux-64\n",
      "             user-agent : conda/4.6.14 requests/2.21.0 CPython/3.7.1 Linux/4.4.0-148-generic ubuntu/16.04.6 glibc/2.23\n",
      "                UID:GID : 100134:100006\n",
      "             netrc file : None\n",
      "           offline mode : False\n",
      "\n",
      "(.env) # packages in environment at /mnt/ssd/ssd_2/install/dir/anaconda:\n",
      "#\n",
      "# Name                    Version                   Build  Channel\n",
      "_ipyw_jlab_nb_ext_conf    0.1.0                    py37_0  \n",
      "alabaster                 0.7.12                   py37_0  \n",
      "anaconda                  2018.12                  py37_0  \n",
      "anaconda-client           1.7.2                    py37_0  \n",
      "anaconda-navigator        1.9.6                    py37_0  \n",
      "anaconda-project          0.8.2                    py37_0  \n",
      "asn1crypto                0.24.0                   py37_0  \n",
      "astroid                   2.1.0                    py37_0  \n",
      "astropy                   3.1              py37h7b6447c_0  \n",
      "atomicwrites              1.2.1                    py37_0  \n",
      "attrs                     18.2.0           py37h28b3542_0  \n",
      "babel                     2.6.0                    py37_0  \n",
      "backcall                  0.1.0                    py37_0  \n",
      "backports                 1.0                      py37_1  \n",
      "backports.os              0.1.1                    py37_0  \n",
      "backports.shutil_get_terminal_size 1.0.0                    py37_2  \n",
      "bamtools                  2.4.1                         1    bioconda\n",
      "bash-kernel               0.7.1                    pypi_0    pypi\n",
      "bcftools                  1.9                  ha228f0b_3    bioconda\n",
      "beautifulsoup4            4.6.3                    py37_0  \n",
      "bedops                    2.4.35               h2d50403_1    bioconda\n",
      "bitarray                  0.8.3            py37h14c3975_0  \n",
      "bkcharts                  0.2                      py37_0  \n",
      "blas                      1.0                         mkl  \n",
      "blaze                     0.11.3                   py37_0  \n",
      "bleach                    3.0.2                    py37_0  \n",
      "blosc                     1.14.4               hdbcaa40_0  \n",
      "bokeh                     1.0.2                    py37_0  \n",
      "boto                      2.49.0                   py37_0  \n",
      "bottleneck                1.2.1            py37h035aef0_1  \n",
      "bzip2                     1.0.6                h14c3975_5  \n",
      "ca-certificates           2019.3.9             hecc5488_0    conda-forge\n",
      "cairo                     1.14.12              h8948797_3  \n",
      "certifi                   2019.3.9                 py37_0  \n",
      "cffi                      1.11.5           py37he75722e_1  \n",
      "chardet                   3.0.4                    py37_1  \n",
      "click                     7.0                      py37_0  \n",
      "cloudpickle               0.6.1                    py37_0  \n",
      "clyent                    1.2.2                    py37_1  \n",
      "colorama                  0.4.1                    py37_0  \n",
      "colormath                 3.0.0                    pypi_0    pypi\n",
      "conda                     4.6.14                   py37_0  \n",
      "conda-build               3.17.6                   py37_0  \n",
      "conda-env                 2.6.0                         1  \n",
      "conda-verify              3.1.1                    py37_0  \n",
      "contextlib2               0.5.5                    py37_0  \n",
      "cryptography              2.4.2            py37h1ba5d50_0  \n",
      "curl                      7.64.1               hbc83047_0  \n",
      "cycler                    0.10.0                   py37_0  \n",
      "cython                    0.29.2           py37he6710b0_0  \n",
      "cytoolz                   0.9.0.1          py37h14c3975_1  \n",
      "dask                      1.0.0                    py37_0  \n",
      "dask-core                 1.0.0                    py37_0  \n",
      "datashape                 0.5.4                    py37_1  \n",
      "dbus                      1.13.2               h714fa37_1  \n",
      "decorator                 4.3.0                    py37_0  \n",
      "deeptools                 3.2.0                      py_0    bioconda\n",
      "deeptoolsintervals        0.1.7            py37h14c3975_1    bioconda\n",
      "defusedxml                0.5.0                    py37_1  \n",
      "distributed               1.25.1                   py37_0  \n",
      "docutils                  0.14                     py37_0  \n",
      "entrypoints               0.2.3                    py37_2  \n",
      "et_xmlfile                1.0.1                    py37_0  \n",
      "expat                     2.2.6                he6710b0_0  \n",
      "fastcache                 1.0.2            py37h14c3975_2  \n",
      "filelock                  3.0.10                   py37_0  \n",
      "flask                     1.0.2                    py37_1  \n",
      "flask-cors                3.0.7                    py37_0  \n",
      "fontconfig                2.13.0               h9420a91_0  \n",
      "freetype                  2.9.1                h8a8886c_1  \n",
      "fribidi                   1.0.5                h7b6447c_0  \n",
      "future                    0.17.1                   py37_0  \n",
      "get_terminal_size         1.0.0                haa9412d_0  \n",
      "gevent                    1.3.7            py37h7b6447c_1  \n",
      "git-lfs                   2.6.1                h7b6447c_0  \n",
      "glib                      2.56.2               hd408876_0  \n",
      "glob2                     0.6                      py37_1  \n",
      "gmp                       6.1.2                h6c8ec71_1  \n",
      "gmpy2                     2.0.8            py37h10f8cd9_2  \n",
      "graphite2                 1.3.12               h23475e2_2  \n",
      "greenlet                  0.4.15           py37h7b6447c_0  \n",
      "gst-plugins-base          1.14.0               hbbd80ab_1  \n",
      "gstreamer                 1.14.0               hb453b48_1  \n",
      "h5py                      2.8.0            py37h989c5e5_3  \n",
      "harfbuzz                  1.8.8                hffaf4a1_0  \n",
      "hdf5                      1.10.2               hba1933b_1  \n",
      "heapdict                  1.0.0                    py37_2  \n",
      "html5lib                  1.0.1                    py37_0  \n",
      "htslib                    1.9                  ha228f0b_7    bioconda\n",
      "icu                       58.2                 h9c2bf20_1  \n",
      "idna                      2.8                      py37_0  \n",
      "imageio                   2.4.1                    py37_0  \n",
      "imagesize                 1.1.0                    py37_0  \n",
      "importlib_metadata        0.6                      py37_0  \n",
      "intel-openmp              2019.1                      144  \n",
      "ipykernel                 5.1.0            py37h39e3cac_0  \n",
      "ipython                   7.2.0            py37h39e3cac_0  \n",
      "ipython_genutils          0.2.0                    py37_0  \n",
      "ipywidgets                7.4.2                    py37_0  \n",
      "isort                     4.3.4                    py37_0  \n",
      "itsdangerous              1.1.0                    py37_0  \n",
      "jbig                      2.1                  hdba287a_0  \n",
      "jdcal                     1.4                      py37_0  \n",
      "jedi                      0.13.2                   py37_0  \n",
      "jeepney                   0.4                      py37_0  \n",
      "jinja2                    2.10                     py37_0  \n",
      "jpeg                      9b                   h024ee3a_2  \n",
      "jsonschema                2.6.0                    py37_0  \n",
      "jupyter                   1.0.0                    py37_7  \n",
      "jupyter_client            5.2.4                    py37_0  \n",
      "jupyter_console           6.0.0                    py37_0  \n",
      "jupyter_core              4.4.0                    py37_0  \n",
      "jupyterlab                0.35.3                   py37_0  \n",
      "jupyterlab_server         0.2.0                    py37_0  \n",
      "keyring                   17.0.0                   py37_0  \n",
      "kiwisolver                1.0.1            py37hf484d3e_0  \n",
      "krb5                      1.16.1               h173b8e3_7  \n",
      "lazy-object-proxy         1.3.1            py37h14c3975_2  \n",
      "libarchive                3.3.3                h5d8350f_5  \n",
      "libcurl                   7.64.1               h20c2e04_0  \n",
      "libdeflate                1.0                  h14c3975_1    bioconda\n",
      "libedit                   3.1.20170329         h6b74fdf_2  \n",
      "libffi                    3.2.1                hd88cf55_4  \n",
      "libgcc                    7.2.0                h69d50b8_2    conda-forge\n",
      "libgcc-ng                 8.2.0                hdf63c60_1  \n",
      "libgfortran-ng            7.3.0                hdf63c60_0  \n",
      "liblief                   0.9.0                h7725739_1  \n",
      "libpng                    1.6.35               hbc83047_0  \n",
      "libsodium                 1.0.16               h1bed415_0  \n",
      "libssh2                   1.8.2                h1ba5d50_0  \n",
      "libstdcxx-ng              8.2.0                hdf63c60_1  \n",
      "libtiff                   4.0.9                he85c1e1_2  \n",
      "libtool                   2.4.6                h7b6447c_5  \n",
      "libuuid                   1.0.3                h1bed415_2  \n",
      "libxcb                    1.13                 h1bed415_1  \n",
      "libxml2                   2.9.8                h26e45fe_1  \n",
      "libxslt                   1.1.32               h1312cb7_0  \n",
      "llvmlite                  0.26.0           py37hd408876_0  \n",
      "locket                    0.2.0                    py37_1  \n",
      "lxml                      4.2.5            py37hefd8a0e_0  \n",
      "lz4-c                     1.8.1.2              h14c3975_0  \n",
      "lzo                       2.10                 h49e0be7_2  \n",
      "lzstring                  1.0.4                    pypi_0    pypi\n",
      "markdown                  3.1                      pypi_0    pypi\n",
      "markupsafe                1.1.0            py37h7b6447c_0  \n",
      "matplotlib                2.2.4                    pypi_0    pypi\n",
      "mccabe                    0.6.1                    py37_1  \n",
      "mistune                   0.8.4            py37h7b6447c_0  \n",
      "mkl                       2019.1                      144  \n",
      "mkl-service               1.1.2            py37he904b0f_5  \n",
      "mkl_fft                   1.0.6            py37hd81dba3_0  \n",
      "mkl_random                1.0.2            py37hd81dba3_0  \n",
      "more-itertools            4.3.0                    py37_0  \n",
      "mpc                       1.1.0                h10f8cd9_1  \n",
      "mpfr                      4.0.1                hdf1c602_3  \n",
      "mpmath                    1.1.0                    py37_0  \n",
      "msgpack-python            0.5.6            py37h6bb024c_1  \n",
      "multipledispatch          0.6.0                    py37_0  \n",
      "multiqc                   1.7                      pypi_0    pypi\n",
      "mysql-connector-c         6.1.6                         2    bioconda\n",
      "navigator-updater         0.2.1                    py37_0  \n",
      "nbconvert                 5.4.0                    py37_1  \n",
      "nbformat                  4.4.0                    py37_0  \n",
      "ncurses                   6.1                  he6710b0_1  \n",
      "networkx                  2.2                      py37_1  \n",
      "nltk                      3.4                      py37_1  \n",
      "nose                      1.3.7                    py37_2  \n",
      "notebook                  5.7.4                    py37_0  \n",
      "numba                     0.41.0           py37h962f231_0  \n",
      "numexpr                   2.6.8            py37h9e4a6bb_0  \n",
      "numpy                     1.16.2           py37h7e9f1db_0  \n",
      "numpy-base                1.16.2           py37hde5b4d6_0  \n",
      "numpydoc                  0.8.0                    py37_0  \n",
      "odo                       0.5.1                    py37_0  \n",
      "olefile                   0.46                     py37_0  \n",
      "openpyxl                  2.5.12                   py37_0  \n",
      "openssl                   1.1.1c               h7b6447c_1  \n",
      "packaging                 18.0                     py37_0  \n",
      "pandas                    0.23.4           py37h04863e7_0  \n",
      "pandoc                    1.19.2.1             hea2e7c5_1  \n",
      "pandocfilters             1.4.2                    py37_1  \n",
      "pango                     1.42.4               h049681c_0  \n",
      "parso                     0.3.1                    py37_0  \n",
      "partd                     0.3.9                    py37_0  \n",
      "patchelf                  0.9                  he6710b0_3  \n",
      "path.py                   11.5.0                   py37_0  \n",
      "pathlib2                  2.3.3                    py37_0  \n",
      "patsy                     0.5.1                    py37_0  \n",
      "pcre                      8.42                 h439df22_0  \n",
      "pep8                      1.7.1                    py37_0  \n",
      "perl                      5.26.2            h14c3975_1002    conda-forge\n",
      "pexpect                   4.6.0                    py37_0  \n",
      "pickleshare               0.7.5                    py37_0  \n",
      "pillow                    5.3.0            py37h34e0f95_0  \n",
      "pip                       18.1                     py37_0  \n",
      "pixman                    0.34.0               hceecf20_3  \n",
      "pkginfo                   1.4.2                    py37_1  \n",
      "plotly                    3.7.1                      py_0    conda-forge\n",
      "pluggy                    0.8.0                    py37_0  \n",
      "ply                       3.11                     py37_0  \n",
      "prometheus_client         0.5.0                    py37_0  \n",
      "prompt_toolkit            2.0.7                    py37_0  \n",
      "psutil                    5.4.8            py37h7b6447c_0  \n",
      "ptyprocess                0.6.0                    py37_0  \n",
      "py                        1.7.0                    py37_0  \n",
      "py-lief                   0.9.0            py37h7725739_1  \n",
      "py2bit                    0.3.0            py37h14c3975_2    bioconda\n",
      "pybigwig                  0.3.13           py37h5295baf_2    bioconda\n",
      "pycodestyle               2.4.0                    py37_0  \n",
      "pycosat                   0.6.3            py37h14c3975_0  \n",
      "pycparser                 2.19                     py37_0  \n",
      "pycrypto                  2.6.1            py37h14c3975_9  \n",
      "pycurl                    7.43.0.2         py37h1ba5d50_0  \n",
      "pyflakes                  2.0.0                    py37_0  \n",
      "pygments                  2.3.1                    py37_0  \n",
      "pylint                    2.2.2                    py37_0  \n",
      "pyodbc                    4.0.25           py37he6710b0_0  \n",
      "pyopenssl                 18.0.0                   py37_0  \n",
      "pyparsing                 2.3.0                    py37_0  \n",
      "pyqt                      5.9.2            py37h05f1152_2  \n",
      "pysam                     0.15.2           py37h4b7d16d_3    bioconda\n",
      "pysocks                   1.6.8                    py37_0  \n",
      "pytables                  3.4.4            py37ha205bf6_0  \n",
      "pytest                    4.0.2                    py37_0  \n",
      "pytest-arraydiff          0.3              py37h39e3cac_0  \n",
      "pytest-astropy            0.5.0                    py37_0  \n",
      "pytest-doctestplus        0.2.0                    py37_0  \n",
      "pytest-openfiles          0.3.1                    py37_0  \n",
      "pytest-remotedata         0.3.1                    py37_0  \n",
      "python                    3.7.1                h0371630_7  \n",
      "python-dateutil           2.7.5                    py37_0  \n",
      "python-libarchive-c       2.8                      py37_6  \n",
      "pytz                      2018.7                   py37_0  \n",
      "pywavelets                1.0.1            py37hdd07704_0  \n",
      "pyyaml                    3.13             py37h14c3975_0  \n",
      "pyzmq                     17.1.2           py37h14c3975_0  \n",
      "qt                        5.9.7                h5867ecd_1  \n",
      "qtawesome                 0.5.3                    py37_0  \n",
      "qtconsole                 4.4.3                    py37_0  \n",
      "qtpy                      1.5.2                    py37_0  \n",
      "readline                  7.0                  h7b6447c_5  \n",
      "requests                  2.21.0                   py37_0  \n",
      "retrying                  1.3.3                      py_2    conda-forge\n",
      "rope                      0.11.0                   py37_0  \n",
      "ruamel-yaml               0.15.94                  pypi_0    pypi\n",
      "ruamel_yaml               0.15.46          py37h14c3975_0  \n",
      "samtools                  1.9                 h8571acd_11    bioconda\n",
      "scalpel                   0.5.3                h2407274_2    bioconda\n",
      "scikit-image              0.14.1           py37he6710b0_0  \n",
      "scikit-learn              0.20.1           py37hd81dba3_0  \n",
      "scipy                     1.1.0            py37h7c811a0_2  \n",
      "seaborn                   0.9.0                    py37_0  \n",
      "secretstorage             3.1.0                    py37_0  \n",
      "send2trash                1.5.0                    py37_0  \n",
      "setuptools                40.6.3                   py37_0  \n",
      "simplegeneric             0.8.1                    py37_2  \n",
      "simplejson                3.16.0                   pypi_0    pypi\n",
      "singledispatch            3.4.0.3                  py37_0  \n",
      "sip                       4.19.8           py37hf484d3e_0  \n",
      "six                       1.12.0                   py37_0  \n",
      "snappy                    1.1.7                hbae5bb6_3  \n",
      "snowballstemmer           1.2.1                    py37_0  \n",
      "sortedcollections         1.0.1                    py37_0  \n",
      "sortedcontainers          2.1.0                    py37_0  \n",
      "spectra                   0.0.11                   pypi_0    pypi\n",
      "sphinx                    1.8.2                    py37_0  \n",
      "sphinxcontrib             1.0                      py37_1  \n",
      "sphinxcontrib-websupport  1.1.0                    py37_1  \n",
      "spyder                    3.3.2                    py37_0  \n",
      "spyder-kernels            0.3.0                    py37_0  \n",
      "sqlalchemy                1.2.15           py37h7b6447c_0  \n",
      "sqlite                    3.26.0               h7b6447c_0  \n",
      "statsmodels               0.9.0            py37h035aef0_0  \n",
      "sympy                     1.3                      py37_0  \n",
      "tblib                     1.3.2                    py37_0  \n",
      "terminado                 0.8.1                    py37_1  \n",
      "testpath                  0.4.2                    py37_0  \n",
      "tk                        8.6.8                hbc83047_0  \n",
      "toolz                     0.9.0                    py37_0  \n",
      "tornado                   5.1.1            py37h7b6447c_0  \n",
      "tqdm                      4.28.1           py37h28b3542_0  \n",
      "traitlets                 4.3.2                    py37_0  \n",
      "ucsc-bedgraphtobigwig     357                           1    bioconda\n",
      "unicodecsv                0.14.1                   py37_0  \n",
      "unixodbc                  2.3.7                h14c3975_0  \n",
      "urllib3                   1.24.1                   py37_0  \n",
      "wcwidth                   0.1.7                    py37_0  \n",
      "webencodings              0.5.1                    py37_1  \n",
      "werkzeug                  0.14.1                   py37_0  \n",
      "wheel                     0.32.3                   py37_0  \n",
      "widgetsnbextension        3.4.2                    py37_0  \n",
      "wrapt                     1.10.11          py37h14c3975_2  \n",
      "wurlitzer                 1.0.2                    py37_0  \n",
      "xlrd                      1.2.0                    py37_0  \n",
      "xlsxwriter                1.1.2                    py37_0  \n",
      "xlwt                      1.3.0                    py37_0  \n",
      "xz                        5.2.4                h14c3975_4  \n",
      "yaml                      0.1.7                had09818_2  \n",
      "zeromq                    4.2.5                hf484d3e_1  \n",
      "zict                      0.1.3                    py37_0  \n",
      "zlib                      1.2.11               h7b6447c_3  \n",
      "zstd                      1.3.7                h0b5b093_0  \n",
      "(.env) (.env) (.env) "
     ]
    },
    {
     "ename": "",
     "evalue": "1",
     "output_type": "error",
     "traceback": []
    }
   ],
   "source": [
    "source activate treponema\n",
    "# In case we want to export the system settings and software versions\n",
    "conda info\n",
    "conda list\n",
    "# In case we modified the environment want to export it\n",
    "#conda env export > treponema_mod.yml"
   ]
  },
  {
   "cell_type": "markdown",
   "metadata": {
    "deletable": true,
    "editable": true
   },
   "source": [
    "## Running the workflow"
   ]
  },
  {
   "cell_type": "markdown",
   "metadata": {
    "deletable": true,
    "editable": true
   },
   "source": [
    "### Input variables"
   ]
  },
  {
   "cell_type": "markdown",
   "metadata": {
    "deletable": true,
    "editable": true
   },
   "source": [
    "First, we have to setup few variables which will be used throughout the analysis."
   ]
  },
  {
   "cell_type": "code",
   "execution_count": 25,
   "metadata": {
    "collapsed": false,
    "deletable": true,
    "editable": true
   },
   "outputs": [
    {
     "name": "stdout",
     "output_type": "stream",
     "text": [
      "(treponema) (treponema) (treponema) (treponema) (treponema) (treponema) (treponema) (treponema) (treponema) (treponema) (treponema) (treponema) "
     ]
    },
    {
     "ename": "",
     "evalue": "1",
     "output_type": "error",
     "traceback": []
    }
   ],
   "source": [
    "INPUT_DIR=\"/home/jan/Projects/treponema/data/raw\"\n",
    "OUTPUT_DIR=\"/home/jan/Projects/treponema/results\"\n",
    "\n",
    "THREADS=6\n",
    "\n",
    "ADAPTER_R1=\"CTGTCTCTTATACACATCT\"\n",
    "ADAPTER_R2=$ADAPTER_R1\n",
    "\n",
    "HOST_GENOME=\"/home/jan/Projects/treponema/data/references/GCF_000001405.36_GRCh38.p10_genomic.fna.gz\" # ftp://ftp.ncbi.nlm.nih.gov/genomes/all/GCF/000/001/405/GCF_000001405.36_GRCh38.p10/GCF_000001405.36_GRCh38.p10_genomic.fna.gz\n",
    "STRAINSEEKER_DB=\"/home/jan/Projects/treponema/data/references/strainseeker/ss_db_w32_4324\"\n",
    "\n",
    "REFERENCE=\"/home/jan/Projects/treponema/data/references/SS14.fa\" # Bacteria reference genome"
   ]
  },
  {
   "cell_type": "markdown",
   "metadata": {
    "deletable": true,
    "editable": true
   },
   "source": [
    "### Initial quality check"
   ]
  },
  {
   "cell_type": "markdown",
   "metadata": {
    "deletable": true,
    "editable": true
   },
   "source": [
    "It is always a good idea to run an initial quality check on your data."
   ]
  },
  {
   "cell_type": "code",
   "execution_count": 8,
   "metadata": {
    "collapsed": false,
    "deletable": true,
    "editable": true
   },
   "outputs": [
    {
     "name": "stdout",
     "output_type": "stream",
     "text": [
      "(treponema) (treponema) Started analysis of CW56_S1_R1_001.fastq.gz\n",
      "Started analysis of CW56_S1_R2_001.fastq.gz\n",
      "Approx 5% complete for CW56_S1_R1_001.fastq.gz\n",
      "Approx 5% complete for CW56_S1_R2_001.fastq.gz\n",
      "Approx 10% complete for CW56_S1_R1_001.fastq.gz\n",
      "Approx 10% complete for CW56_S1_R2_001.fastq.gz\n",
      "Approx 15% complete for CW56_S1_R1_001.fastq.gz\n",
      "Approx 15% complete for CW56_S1_R2_001.fastq.gz\n",
      "Approx 20% complete for CW56_S1_R1_001.fastq.gz\n",
      "Approx 20% complete for CW56_S1_R2_001.fastq.gz\n",
      "Approx 25% complete for CW56_S1_R1_001.fastq.gz\n",
      "Approx 25% complete for CW56_S1_R2_001.fastq.gz\n",
      "Approx 30% complete for CW56_S1_R1_001.fastq.gz\n",
      "Approx 30% complete for CW56_S1_R2_001.fastq.gz\n",
      "Approx 35% complete for CW56_S1_R2_001.fastq.gz\n",
      "Approx 35% complete for CW56_S1_R1_001.fastq.gz\n",
      "Approx 40% complete for CW56_S1_R2_001.fastq.gz\n",
      "Approx 40% complete for CW56_S1_R1_001.fastq.gz\n",
      "Approx 45% complete for CW56_S1_R2_001.fastq.gz\n",
      "Approx 45% complete for CW56_S1_R1_001.fastq.gz\n",
      "Approx 50% complete for CW56_S1_R1_001.fastq.gz\n",
      "Approx 50% complete for CW56_S1_R2_001.fastq.gz\n",
      "Approx 55% complete for CW56_S1_R1_001.fastq.gz\n",
      "Approx 55% complete for CW56_S1_R2_001.fastq.gz\n",
      "Approx 60% complete for CW56_S1_R1_001.fastq.gz\n",
      "Approx 60% complete for CW56_S1_R2_001.fastq.gz\n",
      "Approx 65% complete for CW56_S1_R1_001.fastq.gz\n",
      "Approx 65% complete for CW56_S1_R2_001.fastq.gz\n",
      "Approx 70% complete for CW56_S1_R1_001.fastq.gz\n",
      "Approx 70% complete for CW56_S1_R2_001.fastq.gz\n",
      "Approx 75% complete for CW56_S1_R1_001.fastq.gz\n",
      "Approx 75% complete for CW56_S1_R2_001.fastq.gz\n",
      "Approx 80% complete for CW56_S1_R1_001.fastq.gz\n",
      "Approx 80% complete for CW56_S1_R2_001.fastq.gz\n",
      "Approx 85% complete for CW56_S1_R1_001.fastq.gz\n",
      "Approx 85% complete for CW56_S1_R2_001.fastq.gz\n",
      "Approx 90% complete for CW56_S1_R1_001.fastq.gz\n",
      "Approx 90% complete for CW56_S1_R2_001.fastq.gz\n",
      "Approx 95% complete for CW56_S1_R1_001.fastq.gz\n",
      "Approx 95% complete for CW56_S1_R2_001.fastq.gz\n",
      "Analysis complete for CW56_S1_R1_001.fastq.gz\n",
      "Analysis complete for CW56_S1_R2_001.fastq.gz\n",
      "(treponema) (treponema) [INFO   ]         multiqc : This is MultiQC v1.7\n",
      "[INFO   ]         multiqc : Template    : default\n",
      "[INFO   ]         multiqc : Searching '/home/jan/Projects/treponema/results/qc/fastqc/raw/'\n",
      "[INFO   ]          fastqc : Found 2 reports\n",
      "[INFO   ]         multiqc : Compressing plot data\n",
      "[INFO   ]         multiqc : Report      : ../../../../Projects/treponema/results/qc/fastqc/raw/multiqc_report.html\n",
      "[INFO   ]         multiqc : Data        : ../../../../Projects/treponema/results/qc/fastqc/raw/multiqc_data\n",
      "[INFO   ]         multiqc : MultiQC complete\n",
      "(treponema) "
     ]
    },
    {
     "ename": "",
     "evalue": "1",
     "output_type": "error",
     "traceback": []
    }
   ],
   "source": [
    "mkdir -p $OUTPUT_DIR/qc/fastqc/raw\n",
    "\n",
    "fastqc --threads $THREADS --outdir $OUTPUT_DIR/qc/fastqc/raw $INPUT_DIR/*.gz\n",
    "\n",
    "multiqc --outdir $OUTPUT_DIR/qc/fastqc/raw $OUTPUT_DIR/qc/fastqc/raw/ "
   ]
  },
  {
   "cell_type": "markdown",
   "metadata": {
    "deletable": true,
    "editable": true
   },
   "source": [
    "### Read preprocessing"
   ]
  },
  {
   "cell_type": "markdown",
   "metadata": {
    "deletable": true,
    "editable": true
   },
   "source": [
    "Since we are working with DNA data and aiming for the results including the polymorphisms we should perform a careful preprocessing to remove the adapter sequences and perform quality trimming."
   ]
  },
  {
   "cell_type": "code",
   "execution_count": 18,
   "metadata": {
    "collapsed": false,
    "deletable": true,
    "editable": true
   },
   "outputs": [
    {
     "name": "stdout",
     "output_type": "stream",
     "text": [
      "(treponema) mkdir: cannot create directory ‘/home/jan/Projects/treponema/results/qc/cutadapt’: File exists\n",
      "(treponema) mkdir: cannot create directory ‘/home/jan/Projects/treponema/results/qc/fastqc/preprocessed’: File exists\n",
      "(treponema) (treponema) (treponema) (treponema) Now I am processing CW56_S1_R1_001.fastq.gz as first in a pair and CW56_S1_R2_001.fastq.gz as a second in a pair.\n",
      "Done processing CW56_S1_R1_001.fastq.gz and CW56_S1_R2_001.fastq.gz\n",
      "(treponema) (treponema) Started analysis of CW56_S1_R1.trimmed.fastq.gz\n",
      "Started analysis of CW56_S1_R2.trimmed.fastq.gz\n",
      "Approx 5% complete for CW56_S1_R1.trimmed.fastq.gz\n",
      "Approx 5% complete for CW56_S1_R2.trimmed.fastq.gz\n",
      "Approx 10% complete for CW56_S1_R1.trimmed.fastq.gz\n",
      "Approx 10% complete for CW56_S1_R2.trimmed.fastq.gz\n",
      "Approx 15% complete for CW56_S1_R1.trimmed.fastq.gz\n",
      "Approx 15% complete for CW56_S1_R2.trimmed.fastq.gz\n",
      "Approx 20% complete for CW56_S1_R1.trimmed.fastq.gz\n",
      "Approx 20% complete for CW56_S1_R2.trimmed.fastq.gz\n",
      "Approx 25% complete for CW56_S1_R1.trimmed.fastq.gz\n",
      "Approx 25% complete for CW56_S1_R2.trimmed.fastq.gz\n",
      "Approx 30% complete for CW56_S1_R1.trimmed.fastq.gz\n",
      "Approx 30% complete for CW56_S1_R2.trimmed.fastq.gz\n",
      "Approx 35% complete for CW56_S1_R1.trimmed.fastq.gz\n",
      "Approx 35% complete for CW56_S1_R2.trimmed.fastq.gz\n",
      "Approx 40% complete for CW56_S1_R1.trimmed.fastq.gz\n",
      "Approx 40% complete for CW56_S1_R2.trimmed.fastq.gz\n",
      "Approx 45% complete for CW56_S1_R1.trimmed.fastq.gz\n",
      "Approx 45% complete for CW56_S1_R2.trimmed.fastq.gz\n",
      "Approx 50% complete for CW56_S1_R1.trimmed.fastq.gz\n",
      "Approx 50% complete for CW56_S1_R2.trimmed.fastq.gz\n",
      "Approx 55% complete for CW56_S1_R1.trimmed.fastq.gz\n",
      "Approx 55% complete for CW56_S1_R2.trimmed.fastq.gz\n",
      "Approx 60% complete for CW56_S1_R1.trimmed.fastq.gz\n",
      "Approx 60% complete for CW56_S1_R2.trimmed.fastq.gz\n",
      "Approx 65% complete for CW56_S1_R1.trimmed.fastq.gz\n",
      "Approx 65% complete for CW56_S1_R2.trimmed.fastq.gz\n",
      "Approx 70% complete for CW56_S1_R1.trimmed.fastq.gz\n",
      "Approx 70% complete for CW56_S1_R2.trimmed.fastq.gz\n",
      "Approx 75% complete for CW56_S1_R1.trimmed.fastq.gz\n",
      "Approx 75% complete for CW56_S1_R2.trimmed.fastq.gz\n",
      "Approx 80% complete for CW56_S1_R1.trimmed.fastq.gz\n",
      "Approx 80% complete for CW56_S1_R2.trimmed.fastq.gz\n",
      "Approx 85% complete for CW56_S1_R1.trimmed.fastq.gz\n",
      "Approx 85% complete for CW56_S1_R2.trimmed.fastq.gz\n",
      "Approx 90% complete for CW56_S1_R1.trimmed.fastq.gz\n",
      "Approx 90% complete for CW56_S1_R2.trimmed.fastq.gz\n",
      "Approx 95% complete for CW56_S1_R1.trimmed.fastq.gz\n",
      "Approx 95% complete for CW56_S1_R2.trimmed.fastq.gz\n",
      "Analysis complete for CW56_S1_R1.trimmed.fastq.gz\n",
      "Analysis complete for CW56_S1_R2.trimmed.fastq.gz\n",
      "(treponema) (treponema) [INFO   ]         multiqc : This is MultiQC v1.7\n",
      "[INFO   ]         multiqc : Template    : default\n",
      "[INFO   ]         multiqc : Searching '/home/jan/Projects/treponema/results/qc/cutadapt/'\n",
      "[INFO   ]        cutadapt : Found 1 reports\n",
      "[INFO   ]         multiqc : Compressing plot data\n",
      "[INFO   ]         multiqc : Report      : ../../../../../Projects/treponema/results/qc/cutadapt/multiqc_report.html\n",
      "[INFO   ]         multiqc : Data        : ../../../../../Projects/treponema/results/qc/cutadapt/multiqc_data\n",
      "[INFO   ]         multiqc : MultiQC complete\n",
      "(treponema) "
     ]
    },
    {
     "ename": "",
     "evalue": "1",
     "output_type": "error",
     "traceback": []
    }
   ],
   "source": [
    "mkdir -p $OUTPUT_DIR/data/preprocessed\n",
    "mkdir $OUTPUT_DIR/qc/cutadapt\n",
    "mkdir $OUTPUT_DIR/qc/fastqc/preprocessed\n",
    "\n",
    "cd $INPUT_DIR/\n",
    "\n",
    "for sample in *R1*.gz\n",
    "do\n",
    "    FORWARD=$sample\n",
    "    extension=\"${FORWARD##*R1}\"\n",
    "    REVERSE=${FORWARD%R1*}R2${extension}\n",
    "\n",
    "    # Input file check\n",
    "    if [ ! -f ${FORWARD} ]; then\n",
    "    echo \"Input file not found! First in pair.\"; echo ${FORWARD}\n",
    "    fi\n",
    "    if [ ! -f ${REVERSE} ]; then\n",
    "    echo \"Input file not found! Second in pair.\"; echo ${REVERSE}\n",
    "    fi\n",
    "\n",
    "    echo \"Now I am processing ${FORWARD} as first in a pair and ${REVERSE} as a second in a pair.\"\n",
    "\n",
    "    cutadapt -a $ADAPTER_R1 -A $ADAPTER_R2 \\\n",
    "    --times 1 --quality-cutoff 15,15 --trim-n \\\n",
    "    --error-rate 0.10 -O 3 --minimum-length 35 --max-n 0 \\\n",
    "    --output $OUTPUT_DIR/data/preprocessed/${FORWARD%$extension}.trimmed.fastq.gz \\\n",
    "    --paired-output $OUTPUT_DIR/data/preprocessed/${REVERSE%$extension}.trimmed.fastq.gz \\\n",
    "    $FORWARD $REVERSE &>$OUTPUT_DIR/qc/cutadapt/${FORWARD%_R1${extension}}.cutadapt.out\n",
    "\n",
    "    echo \"Done processing $FORWARD and $REVERSE\"\n",
    "done\n",
    "\n",
    "multiqc --outdir $OUTPUT_DIR/qc/cutadapt $OUTPUT_DIR/qc/cutadapt/\n",
    "\n",
    "fastqc --threads $THREADS --outdir $OUTPUT_DIR/qc/fastqc/preprocessed $OUTPUT_DIR/data/preprocessed/*.gz\n",
    "\n",
    "multiqc --outdir $OUTPUT_DIR/qc/fastqc/preprocessed $OUTPUT_DIR/qc/fastqc/preprocessed/"
   ]
  },
  {
   "cell_type": "markdown",
   "metadata": {
    "deletable": true,
    "editable": true
   },
   "source": [
    "### Host genome contamination removal"
   ]
  },
  {
   "cell_type": "markdown",
   "metadata": {
    "deletable": true,
    "editable": true
   },
   "source": [
    "Removal of the host genome DNA before the analysis speeds up the analysis and we will be working with much smaller files as well. "
   ]
  },
  {
   "cell_type": "code",
   "execution_count": 24,
   "metadata": {
    "collapsed": false,
    "deletable": true,
    "editable": true
   },
   "outputs": [
    {
     "name": "stdout",
     "output_type": "stream",
     "text": [
      "(treponema) mkdir: cannot create directory ‘/home/jan/Projects/treponema/data/references/bbmap_index’: File exists\n",
      "(treponema) (treponema) (treponema) java -Djava.library.path=/home/jan/Tools/anaconda/envs/treponema/opt/bbmap-38.22-0/jni/ -ea -Xmx2g -cp /home/jan/Tools/anaconda/envs/treponema/opt/bbmap-38.22-0/current/ align2.BBMap build=1 overwrite=true fastareadlen=500 ref=/home/jan/Projects/treponema/data/references/GCF_000001405.36_GRCh38.p10_genomic.fna.gz -Xmx2g path=./bbmap_index/HOST_GENOME\n",
      "Executing align2.BBMap [build=1, overwrite=true, fastareadlen=500, ref=/home/jan/Projects/treponema/data/references/GCF_000001405.36_GRCh38.p10_genomic.fna.gz, -Xmx2g, path=./bbmap_index/HOST_GENOME]\n",
      "Version 38.22\n",
      "\n",
      "No output file.\n",
      "NOTE:\tDeleting contents of ./bbmap_index/HOST_GENOME/ref/genome/1 because reference is specified and overwrite=true\n",
      "Writing reference.\n",
      "Executing dna.FastaToChromArrays2 [/home/jan/Projects/treponema/data/references/GCF_000001405.36_GRCh38.p10_genomic.fna.gz, 1, writeinthread=false, genscaffoldinfo=true, retain, waitforwriting=false, gz=true, maxlen=536670912, writechroms=true, minscaf=1, midpad=300, startpad=8000, stoppad=8000, nodisk=false]\n",
      "\n",
      "Set genScaffoldInfo=true\n",
      "java.lang.OutOfMemoryError: Java heap space\n",
      "\tat shared.KillSwitch.allocByte1D(KillSwitch.java:200)\n",
      "\tat dna.ChromosomeArray.resize(ChromosomeArray.java:320)\n",
      "\tat dna.ChromosomeArray.set(ChromosomeArray.java:173)\n",
      "\tat dna.ChromosomeArray.set(ChromosomeArray.java:164)\n",
      "\tat dna.FastaToChromArrays2.makeNextChrom(FastaToChromArrays2.java:475)\n",
      "\tat dna.FastaToChromArrays2.makeChroms(FastaToChromArrays2.java:342)\n",
      "\tat dna.FastaToChromArrays2.main2(FastaToChromArrays2.java:151)\n",
      "\tat align2.RefToIndex.makeIndex(RefToIndex.java:147)\n",
      "\tat align2.BBMap.setup(BBMap.java:278)\n",
      "\tat align2.AbstractMapper.<init>(AbstractMapper.java:57)\n",
      "\tat align2.BBMap.<init>(BBMap.java:43)\n",
      "\tat align2.BBMap.main(BBMap.java:31)\n",
      "\n",
      "This program ran out of memory.\n",
      "Try increasing the -Xmx flag and using tool-specific memory-related parameters.\n",
      "(treponema) (treponema) (treponema) mkdir: cannot create directory ‘/home/jan/Projects/treponema/results/qc/bbmap’: File exists\n",
      "(treponema) (treponema) (treponema) (treponema) Now I am processing CW56_S1_R1.trimmed.fastq.gz as first in a pair and CW56_S1_R2.trimmed.fastq.gz as a second in a pair with reference /home/jan/Projects/treponema/data/references/GCF_000001405.36_GRCh38.p10_genomic.fna.gz.\n",
      "java -ea -Xmx12g -cp /home/jan/Tools/anaconda/envs/treponema/opt/bbmap-38.22-0/current/ jgi.ReformatReads -Xmx12g verifypaired in=/home/jan/Projects/treponema/results/data/preprocessed/CW56_S1.clean.fastq.gz out1=/home/jan/Projects/treponema/results/data/preprocessed/CW56_S1_R1.clean.fastq.gz out2=/home/jan/Projects/treponema/results/data/preprocessed/CW56_S1_R2.clean.fastq.gz\n",
      "Executing jgi.ReformatReads [-Xmx12g, verifypaired, in=/home/jan/Projects/treponema/results/data/preprocessed/CW56_S1.clean.fastq.gz, out1=/home/jan/Projects/treponema/results/data/preprocessed/CW56_S1_R1.clean.fastq.gz, out2=/home/jan/Projects/treponema/results/data/preprocessed/CW56_S1_R2.clean.fastq.gz]\n",
      "\n",
      "Exception in thread \"main\" java.lang.RuntimeException: Can't read file '/home/jan/Projects/treponema/results/data/preprocessed/CW56_S1.clean.fastq.gz'\n",
      "\tat shared.Tools.testInputFiles(Tools.java:996)\n",
      "\tat jgi.ReformatReads.<init>(ReformatReads.java:304)\n",
      "\tat jgi.ReformatReads.main(ReformatReads.java:45)\n",
      "rm: cannot remove ‘/bbmap/CW56_S1_R1.trimmed.fastq.gz.dirty.fastq.gz’: No such file or directory\n",
      "(treponema) "
     ]
    },
    {
     "ename": "",
     "evalue": "1",
     "output_type": "error",
     "traceback": []
    }
   ],
   "source": [
    "# Generate a host genome DNA reference index - please run just once\n",
    "mkdir $(dirname $HOST_GENOME)/bbmap_index\n",
    "\n",
    "# If the host genome index does not exist create it\n",
    "if [ ! -d \"$(dirname $HOST_GENOME)/bbmap_index/$(basename $HOST_GENOME)\" ]; then\n",
    "    mkdir $(dirname $HOST_GENOME)/bbmap_index/$(basename $HOST_GENOME)\n",
    "    bbmap.sh ref=$HOST_GENOME -Xmx20g path=$(dirname $HOST_GENOME)/bbmap_index/$(basename $HOST_GENOME)\n",
    "fi\n",
    "\n",
    "# Run the host genome reference removal\n",
    "mkdir $OUTPUT_DIR/qc/bbmap\n",
    "\n",
    "cd $OUTPUT_DIR/data/preprocessed/\n",
    "\n",
    "for sample in *R1*trimmed.fastq.gz\n",
    "do\n",
    "    FORWARD=$sample\n",
    "    extension=\"${FORWARD##*R1}\"\n",
    "    REVERSE=${FORWARD%R1*}R2${extension}\n",
    "\n",
    "    # Input file check\n",
    "    if [ ! -f ${FORWARD} ]; then\n",
    "        echo \"Input file not found! First in pair.\"; echo ${FORWARD}\n",
    "    fi\n",
    "    if [ ! -f ${REVERSE} ]; then\n",
    "        echo \"Input file not found! Second in pair.\"; echo ${REVERSE}\n",
    "    fi\n",
    "\n",
    "    echo \"Now I am processing ${FORWARD} as first in a pair and ${REVERSE} as a second in a pair with reference $HOST_GENOME.\"\n",
    "\n",
    "    # Start mapping\n",
    "    bbmap.sh threads=$THREADS -Xmx25g minid=0.95 maxindel=3 bandwidthratio=0.16 \\\n",
    "    bandwidth=12 quickmatch fast minhits=2 path=$(dirname $HOST_GENOME)/bbmap_index/$(basename $HOST_GENOME) unpigz pigz \\\n",
    "    in=${FORWARD} in2=${REVERSE} outu=$OUTPUT_DIR/data/preprocessed/${FORWARD%_R1${extension}}.clean.fastq.gz \\\n",
    "    outm=$OUTPUT_DIR/data/preprocessed/${FORWARD%_R1${extension}}.dirty.fastq.gz &>$OUTPUT_DIR/qc/bbmap/${FORWARD%_R1${extension}}.bbmap.out # qtrim=rl trimq=10 untrim  # We already have preprocessed data, no need for this\n",
    "\n",
    "    # De-interleave\n",
    "    reformat.sh -Xmx12g verifypaired in=$OUTPUT_DIR/data/preprocessed/${FORWARD%_R1${extension}}.clean.fastq.gz \\\n",
    "    out1=$OUTPUT_DIR/data/preprocessed/${FORWARD%${extension}}.clean.fastq.gz out2=$OUTPUT_DIR/data/preprocessed/${REVERSE%${extension}}.clean.fastq.gz\n",
    "\n",
    "    # Remove the host genome mapped reads (usefull for mapping precision)\n",
    "    rm $OUTPUT_DIR/data/preprocessed/${FORWARD%_R1${extension}}.clean.fastq.gz\n",
    "    rm $OUTPUT_DIR/data/preprocessed/${FORWARD%_R1${extension}}.dirty.fastq.gz\n",
    "done"
   ]
  },
  {
   "cell_type": "markdown",
   "metadata": {
    "deletable": true,
    "editable": true
   },
   "source": [
    "### Bacteria contamination scan (optional)"
   ]
  },
  {
   "cell_type": "markdown",
   "metadata": {
    "deletable": true,
    "editable": true
   },
   "source": [
    "Before we start with the alignment we can quickly scan for possible bacterial contamination in our dataset. This scan uses default StrainSeeker database which is most likely outdated but StrainSeeker offers a possibility to generate your [own index](http://bioinfo.ut.ee/strainseeker/index.php?r=site/page&view=manual#database) for the scan with their builder script. One advanatage over tools such as [https://ccb.jhu.edu/software/kraken2/](Kraken2) (a great tool) is that is consumes much less RAM. However, the latest releases of MiniKraken2 could be used as well.  "
   ]
  },
  {
   "cell_type": "code",
   "execution_count": null,
   "metadata": {
    "collapsed": true,
    "deletable": true,
    "editable": true
   },
   "outputs": [],
   "source": [
    "mkdir $OUTPUT_DIR/qc/seeker\n",
    "\n",
    "cd $OUTPUT_DIR/data/preprocessed/\n",
    "\n",
    "for sample in *.clean.fastq.gz\n",
    "do \n",
    "    echo \"Working on sample $sample\"\n",
    "\n",
    "    echo \"Subsampling\"\n",
    "    seqtk sample -s100 $sample 1000000 > $sample.sub # Subsample fastq\n",
    "\n",
    "    echo \"Scanning\"\n",
    "    perl seeker.pl -i $sample.sub -d $STRAINSEEKER_DB -o $OUTPUT_DIR/data/preprocessed/${sample%.fastq.gz}.seeker.txt\n",
    "\n",
    "    rm $sample.sub\n",
    "done"
   ]
  },
  {
   "cell_type": "markdown",
   "metadata": {
    "deletable": true,
    "editable": true
   },
   "source": [
    "### Bacteria reference genome alignment"
   ]
  },
  {
   "cell_type": "markdown",
   "metadata": {
    "deletable": true,
    "editable": true
   },
   "source": [
    "With host genome DNA cleaned data we can proceed to the alignment to the reference."
   ]
  },
  {
   "cell_type": "code",
   "execution_count": 26,
   "metadata": {
    "collapsed": false,
    "deletable": true,
    "editable": true
   },
   "outputs": [
    {
     "name": "stdout",
     "output_type": "stream",
     "text": [
      "[bwa_index] Pack FASTA... 0.01 sec\n",
      "[bwa_index] Construct BWT for the packed sequence...\n",
      "[bwa_index] 0.18 seconds elapse.\n",
      "[bwa_index] Update BWT... 0.01 sec\n",
      "[bwa_index] Pack forward-only FASTA... 0.01 sec\n",
      "[bwa_index] Construct SA from BWT and Occ... 0.09 sec\n",
      "[main] Version: 0.7.15-r1140\n",
      "[main] CMD: bwa index /home/jan/Projects/treponema/data/references/SS14.fa\n",
      "[main] Real time: 0.886 sec; CPU: 0.292 sec\n",
      "(treponema) (treponema) "
     ]
    },
    {
     "ename": "",
     "evalue": "1",
     "output_type": "error",
     "traceback": []
    }
   ],
   "source": [
    "# Prepare reference indexes\n",
    "bwa index $REFERENCE\n",
    "samtools faidx $REFERENCE\n",
    "\n",
    "mkdir -p $OUTPUT_DIR/qc/alignment_stats\n",
    "\n",
    "\n",
    "for sample in *R1*clean.fastq.gz\n",
    "    FORWARD=$sample\n",
    "    extension=\"${FORWARD##*R1}\"\n",
    "    REVERSE=${FORWARD%R1*}R2${extension}\n",
    "\n",
    "    cd $SCRATCH/\n",
    "\n",
    "    # Input file check\n",
    "    if [ ! -f ${FORWARD} ]; then\n",
    "        echo \"Input file not found! First in pair.\"; echo ${FORWARD}\n",
    "    fi\n",
    "    if [ ! -f ${REVERSE} ]; then\n",
    "        echo \"Input file not found! Second in pair.\"; echo ${REVERSE}\n",
    "    fi\n",
    "\n",
    "    # Start mapping\n",
    "    echo \"Now I am processing ${FORWARD} as first in a pair and ${REVERSE} as a second in a pair with reference $REF_DIR/$REF_SEQ\"\n",
    "\n",
    "    $BWA mem -t $THREADS -T $BWAMEMT -v 1 -M -R \"@RG\\tID:1\\tLB:${sample%%.*}\\tPL:Illumina\\tSM:${sample%%.*}\\tPU:${sample%%.*}\" $SCRATCH/$REF_SEQ ${FORWARD} ${REVERSE} | $SAMTOOLS view -F 4 -@ $THREADS -b - | $SAMTOOLS sort -@ $THREADS - > $SCRATCH/alignment/${FORWARD%$APPENDIX1*}.${REF_SEQ%.*}.bam # Keep only aligned reads and fix mate information; should be try -k 23? This might decrease number of mismapped reads but who knows what it does to highly variable regions\n",
    "\n",
    "    echo \"Mapping finished\"\n",
    "    #rm $FORWARD $REVERSE\n",
    "\n",
    "    cd $SCRATCH/alignment\n",
    "\n",
    "    i=${FORWARD%$APPENDIX1*}.${REF_SEQ%.*}.bam\n",
    "\n",
    "    $SAMTOOLS index -@ $THREADS $i # Index BAM files\n",
    "    $SAMTOOLS flagstat $i > $SCRATCH/alignment/stats/${i%.*}.flagstat &\n",
    "    $SAMTOOLS view -@ $THREADS -h -F 12 -f 2 -F 256 -b $i | $SAMTOOLS sort -n -@ $THREADS - | $SAMTOOLS fixmate -O bam - - | $SAMTOOLS sort -@ $THREADS - > ${i%.*}.filt.bam # -F 2048 = supplementary alignment, \"chimeric/non-linear alignments\"; -q $MAPQ\n",
    "    $SAMTOOLS index -@ $THREADS ${i%.*}.filt.bam\n",
    "    $SAMTOOLS flagstat ${i%.*}.filt.bam > $SCRATCH/alignment/stats/${i%.*}.filt.flagstat\n",
    "\n",
    "    # Postprocessing\n",
    "    # Create input seqence dictionary and index reference\n",
    "    rm $SCRATCH/${REF_SEQ%.*}.dict\n",
    "    $PICARD_RUN CreateSequenceDictionary R=$SCRATCH/$REF_SEQ O=$SCRATCH/${REF_SEQ%.*}.dict\n",
    "\n",
    "    # Realign\n",
    "    i=${i%.*}.filt.bam\n",
    "\n",
    "    $GATK_RUN -T RealignerTargetCreator --num_threads $THREADS -R $SCRATCH/$REF_SEQ -I ${i} -o $SCRATCH/alignment/${i%.*}.forIndelRealigner.intervals # Prepare intervals\n",
    "    $GATK_RUN -I ${i} -R $SCRATCH/$REF_SEQ -T IndelRealigner -LOD 2.5 --consensusDeterminationModel USE_SW -targetIntervals $SCRATCH/alignment/${i%.*}.forIndelRealigner.intervals -o $SCRATCH/alignment/${i%.*}.indelRealigned.bam # Run re-alignment\n",
    "\n",
    "    $SAMTOOLS index -@ $THREADS ${i%.*}.indelRealigned.bam # Index BAM files\n",
    "\n",
    "    rm $i\n",
    "    rm $i*\n",
    "    rm $SCRATCH/alignment/${i%.*}.indelRealigned.bai\n",
    "    rm $SCRATCH/alignment/${i%.*}.forIndelRealigner.intervals\n",
    "\n",
    "    # Remove duplicates\n",
    "    i=${i%.*}.indelRealigned.bam\n",
    "\n",
    "    mkdir $SCRATCH/picard_dup\n",
    "    $PICARD_RUN MarkDuplicates INPUT=$i OUTPUT=${i%.*}.dedup.bam METRICS_FILE=$SCRATCH/picard_dup/${i%.*}.dedupStats.txt REMOVE_DUPLICATES=true OPTICAL_DUPLICATE_PIXEL_DISTANCE=100 # Taggs ALL duplicates, PCR and optical and remove them\n",
    "\n",
    "    $SAMTOOLS index -@ $THREADS ${i%.*}.dedup.bam\n",
    "    $SAMTOOLS flagstat ${i%.*}.dedup.bam > $SCRATCH/alignment/stats/${i%.*}.dedup.flagstat\n",
    "\n",
    "    rm $i\n",
    "    rm $i*\n",
    "done"
   ]
  },
  {
   "cell_type": "markdown",
   "metadata": {
    "deletable": true,
    "editable": true
   },
   "source": [
    "### Post-alignment filtering"
   ]
  },
  {
   "cell_type": "markdown",
   "metadata": {
    "deletable": true,
    "editable": true
   },
   "source": [
    "### Reference genome coverage"
   ]
  },
  {
   "cell_type": "markdown",
   "metadata": {
    "deletable": true,
    "editable": true
   },
   "source": [
    "### Consensus genome generation"
   ]
  },
  {
   "cell_type": "markdown",
   "metadata": {
    "deletable": true,
    "editable": true
   },
   "source": [
    "### BAM downsampling (optional)"
   ]
  },
  {
   "cell_type": "markdown",
   "metadata": {
    "deletable": true,
    "editable": true
   },
   "source": [
    "### Variant call"
   ]
  },
  {
   "cell_type": "markdown",
   "metadata": {
    "deletable": true,
    "editable": true
   },
   "source": [
    "### Variant annotation"
   ]
  },
  {
   "cell_type": "markdown",
   "metadata": {
    "deletable": true,
    "editable": true
   },
   "source": [
    "### BAM to fastq"
   ]
  },
  {
   "cell_type": "markdown",
   "metadata": {
    "deletable": true,
    "editable": true
   },
   "source": [
    "### *De novo* assembly - mapped reads"
   ]
  },
  {
   "cell_type": "markdown",
   "metadata": {
    "deletable": true,
    "editable": true
   },
   "source": [
    "### *De novo* assembly - all reads (optional)"
   ]
  },
  {
   "cell_type": "markdown",
   "metadata": {
    "deletable": true,
    "editable": true
   },
   "source": [
    "### Additional scaffolding"
   ]
  },
  {
   "cell_type": "markdown",
   "metadata": {
    "deletable": true,
    "editable": true
   },
   "source": [
    "### Assembly Quality Check"
   ]
  },
  {
   "cell_type": "markdown",
   "metadata": {
    "deletable": true,
    "editable": true
   },
   "source": [
    "### Outputs"
   ]
  },
  {
   "cell_type": "code",
   "execution_count": null,
   "metadata": {
    "collapsed": true,
    "deletable": true,
    "editable": true
   },
   "outputs": [],
   "source": []
  }
 ],
 "metadata": {
  "kernelspec": {
   "display_name": "Bash",
   "language": "bash",
   "name": "bash"
  },
  "language_info": {
   "codemirror_mode": "shell",
   "file_extension": ".sh",
   "mimetype": "text/x-sh",
   "name": "bash"
  }
 },
 "nbformat": 4,
 "nbformat_minor": 2
}
