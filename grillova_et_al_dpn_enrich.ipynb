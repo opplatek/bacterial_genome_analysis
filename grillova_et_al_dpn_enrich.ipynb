{
 "cells": [
  {
   "cell_type": "markdown",
   "metadata": {},
   "source": [
    "# Treponema genome analysis workflow - Grillova et al. 2019"
   ]
  },
  {
   "cell_type": "markdown",
   "metadata": {},
   "source": [
    "## The environment"
   ]
  },
  {
   "cell_type": "markdown",
   "metadata": {},
   "source": [
    "### Tested software versions and operation system"
   ]
  },
  {
   "cell_type": "markdown",
   "metadata": {},
   "source": [
    "The workflows has been tested on Linux machines (Ubuntu 14.04, Debian 9) with Python 2.7.6, Python 3.4.3 using Conda 4.5.11, Jupyter notebook 5.7.2 and bash_kernel 0.7.1."
   ]
  },
  {
   "cell_type": "code",
   "execution_count": 2,
   "metadata": {},
   "outputs": [
    {
     "name": "stdout",
     "output_type": "stream",
     "text": [
      "Linux thor 4.4.0-140-generic #166~14.04.1-Ubuntu SMP Sat Nov 17 01:52:43 UTC 2018 x86_64 x86_64 x86_64 GNU/Linux\n",
      "Python 2.7.6\n",
      "Python 3.4.3\n",
      "pip 18.1 from /usr/local/lib/python3.4/dist-packages/pip (python 3.4)\n",
      "conda 4.5.11\n",
      "Jupyter notebook 5.7.2\n",
      "bash_kernel Version: 0.7.1\n"
     ]
    }
   ],
   "source": [
    "uname -a\n",
    "python --version\n",
    "python3 --version\n",
    "pip3 --version\n",
    "conda --version\n",
    "echo \"Jupyter notebook\" `jupyter notebook --version`\n",
    "echo \"bash_kernel\" `pip3 show bash_kernel | grep Version`"
   ]
  },
  {
   "cell_type": "markdown",
   "metadata": {},
   "source": [
    "## The analysis"
   ]
  },
  {
   "cell_type": "markdown",
   "metadata": {},
   "source": [
    "First, we can activate the environment and check "
   ]
  },
  {
   "cell_type": "code",
   "execution_count": 3,
   "metadata": {},
   "outputs": [
    {
     "name": "stdout",
     "output_type": "stream",
     "text": [
      "(treponema) (treponema) \n",
      "     active environment : treponema\n",
      "    active env location : /home/jan/Tools/anaconda/envs/treponema\n",
      "            shell level : 1\n",
      "       user config file : /home/jan/.condarc\n",
      " populated config files : /home/jan/.condarc\n",
      "          conda version : 4.5.11\n",
      "    conda-build version : 1.8.2\n",
      "         python version : 2.7.15.final.0\n",
      "       base environment : /home/jan/Tools/anaconda  (writable)\n",
      "           channel URLs : https://conda.anaconda.org/bioconda/linux-64\n",
      "                          https://conda.anaconda.org/bioconda/noarch\n",
      "                          https://conda.anaconda.org/conda-forge/linux-64\n",
      "                          https://conda.anaconda.org/conda-forge/noarch\n",
      "                          https://conda.anaconda.org/r/linux-64\n",
      "                          https://conda.anaconda.org/r/noarch\n",
      "                          https://repo.anaconda.com/pkgs/main/linux-64\n",
      "                          https://repo.anaconda.com/pkgs/main/noarch\n",
      "                          https://repo.anaconda.com/pkgs/free/linux-64\n",
      "                          https://repo.anaconda.com/pkgs/free/noarch\n",
      "                          https://repo.anaconda.com/pkgs/r/linux-64\n",
      "                          https://repo.anaconda.com/pkgs/r/noarch\n",
      "                          https://repo.anaconda.com/pkgs/pro/linux-64\n",
      "                          https://repo.anaconda.com/pkgs/pro/noarch\n",
      "          package cache : /home/jan/Tools/anaconda/pkgs\n",
      "                          /home/jan/.conda/pkgs\n",
      "       envs directories : /home/jan/Tools/anaconda/envs\n",
      "                          /home/jan/.conda/envs\n",
      "               platform : linux-64\n",
      "             user-agent : conda/4.5.11 requests/2.18.4 CPython/2.7.15 Linux/4.4.0-140-generic ubuntu/14.04 glibc/2.19\n",
      "                UID:GID : 1000:1000\n",
      "             netrc file : None\n",
      "           offline mode : False\n",
      "\n",
      "(treponema) # packages in environment at /home/jan/Tools/anaconda/envs/treponema:\n",
      "#\n",
      "# Name                    Version                   Build  Channel\n",
      "_r-mutex                  1.0.0               anacondar_1    r\n",
      "asn1crypto                0.24.0                py27_1003    conda-forge\n",
      "atk                       2.25.90              h05f3006_1    conda-forge\n",
      "augustus                  3.3             pl526hcfae127_4    bioconda\n",
      "backports                 1.0                        py_2    conda-forge\n",
      "backports.functools_lru_cache 1.5                        py_1    conda-forge\n",
      "backports_abc             0.5                        py_1    conda-forge\n",
      "bamtools                  2.4.1                         1    bioconda\n",
      "bbmap                     38.22                h470a237_0    bioconda\n",
      "bcftools                  1.4.1                         0    bioconda\n",
      "besst                     2.2.8                      py_2    bioconda\n",
      "bioconductor-biobase      2.40.0           r351h470a237_0    bioconda\n",
      "bioconductor-biocgenerics 0.26.0                   r351_0    bioconda\n",
      "bioconductor-biocparallel 1.14.2           r351h26a2512_0    bioconda\n",
      "bioconductor-biostrings   2.48.0           r351h470a237_0    bioconda\n",
      "bioconductor-genomeinfodb 1.16.0                   r351_0    bioconda\n",
      "bioconductor-genomeinfodbdata 1.1.0                    r351_0    bioconda\n",
      "bioconductor-genomicalignments 1.6.3                         1    bioconda\n",
      "bioconductor-genomicranges 1.32.7           r351h470a237_0    bioconda\n",
      "bioconductor-iranges      2.14.12          r351h470a237_0    bioconda\n",
      "bioconductor-noiseq       2.24.0                   r351_0    bioconda\n",
      "bioconductor-rsamtools    1.32.3           r351hfc679d8_0    bioconda\n",
      "bioconductor-rtracklayer  1.36.6                        0    bioconda\n",
      "bioconductor-s4vectors    0.18.3           r351h470a237_0    bioconda\n",
      "bioconductor-summarizedexperiment 1.0.2                         1    bioconda\n",
      "bioconductor-xvector      0.20.0           r351h470a237_0    bioconda\n",
      "bioconductor-zlibbioc     1.26.0           r351h470a237_0    bioconda\n",
      "blas                      1.0                         mkl    conda-forge\n",
      "blast                     2.7.1                h4422958_6    bioconda\n",
      "boost                     1.67.0           py27h3e44d54_0    conda-forge\n",
      "boost-cpp                 1.67.0               h3a22d5f_0    conda-forge\n",
      "busco                     3.0.2                    py27_8    bioconda\n",
      "bwa                       0.7.15                        1    bioconda\n",
      "bwidget                   1.9.11                        1  \n",
      "bz2file                   0.98                       py_0    conda-forge\n",
      "bzip2                     1.0.6                h470a237_2    conda-forge\n",
      "ca-certificates           2018.11.29           ha4d7672_0    conda-forge\n",
      "cairo                     1.14.12              h276e583_5    conda-forge\n",
      "certifi                   2018.11.29            py27_1000    conda-forge\n",
      "cffi                      1.11.5           py27h5e8e0c9_1    conda-forge\n",
      "chardet                   3.0.4                 py27_1003    conda-forge\n",
      "circos                    0.69.6                        2    bioconda\n",
      "click                     7.0                        py_0    conda-forge\n",
      "colormath                 3.0.0                      py_2    conda-forge\n",
      "coverage                  4.5.2            py27h470a237_0    conda-forge\n",
      "cryptography              2.3.1            py27hdffb7b8_0    conda-forge\n",
      "cryptography-vectors      2.3.1                 py27_1000    conda-forge\n",
      "curl                      7.63.0               h74213dd_0    conda-forge\n",
      "cutadapt                  1.18                     py27_0    bioconda\n",
      "cycler                    0.10.0                     py_1    conda-forge\n",
      "cython                    0.29.1           py27hfc679d8_0    conda-forge\n",
      "dbus                      1.13.0               h3a4f0e9_0    conda-forge\n",
      "decorator                 4.3.0                      py_0    conda-forge\n",
      "enum34                    1.1.6                 py27_1001    conda-forge\n",
      "eta                       0.9.7                    py27_1    bioconda\n",
      "expat                     2.2.5                hfc679d8_2    conda-forge\n",
      "fastqc                    0.11.8                        1    bioconda\n",
      "font-ttf-dejavu-sans-mono 2.37                 h6964260_0  \n",
      "fontconfig                2.13.1               h65d0f4c_0    conda-forge\n",
      "freebayes                 0.9.21.26                     0    bioconda\n",
      "freetype                  2.9.1                h6debe1e_4    conda-forge\n",
      "functools32               3.2.3.2                    py_3    conda-forge\n",
      "future                    0.17.1                py27_1000    conda-forge\n",
      "futures                   3.2.0                 py27_1000    conda-forge\n",
      "gatk                      3.7                      py27_1    bioconda\n",
      "gdk-pixbuf                2.32.2                        1    bioconda\n",
      "gettext                   0.19.8.1             h5e8e0c9_1    conda-forge\n",
      "giflib                    5.1.4                h470a237_1    conda-forge\n",
      "glib                      2.56.2               h464dc38_1    conda-forge\n",
      "glimmerhmm                3.0.4                h2d50403_2    bioconda\n",
      "gmp                       6.1.2                hfc679d8_0    conda-forge\n",
      "gnutls                    3.5.19               h2a4e5f8_1    conda-forge\n",
      "gobject-introspection     1.56.1           py27haaf12d0_1    conda-forge\n",
      "graphite2                 1.3.13               hfc679d8_0    conda-forge\n",
      "gsl                       2.2.1                h0c605f7_3  \n",
      "gst-plugins-base          1.12.5               hde13a9d_0    conda-forge\n",
      "gstreamer                 1.12.5               h5856ed1_0    conda-forge\n",
      "gtk2                      2.24.31              hde048ef_0    conda-forge\n",
      "harfbuzz                  1.9.0                h04dbb29_1    conda-forge\n",
      "hmmer                     3.2.1                hfc679d8_0    bioconda\n",
      "htslib                    1.9                  hc238db4_4    bioconda\n",
      "icu                       58.2                 hfc679d8_0    conda-forge\n",
      "idna                      2.8                   py27_1000    conda-forge\n",
      "intel-openmp              2019.1                      144  \n",
      "ipaddress                 1.0.22                     py_1    conda-forge\n",
      "jinja2                    2.10                       py_1    conda-forge\n",
      "joblib                    0.13.0                     py_0    conda-forge\n"
     ]
    },
    {
     "name": "stdout",
     "output_type": "stream",
     "text": [
      "jpeg                      9c                   h470a237_1    conda-forge\n",
      "kiwisolver                1.0.1            py27h2d50403_2    conda-forge\n",
      "krb5                      1.16.2               hbb41f41_0    conda-forge\n",
      "libcurl                   7.63.0               hbdb9355_0    conda-forge\n",
      "libdeflate                1.0                  h470a237_0    bioconda\n",
      "libedit                   3.1.20170329         haf1bffa_1    conda-forge\n",
      "libffi                    3.2.1                hfc679d8_5    conda-forge\n",
      "libgcc                    7.2.0                h69d50b8_2    conda-forge\n",
      "libgcc-ng                 7.2.0                hdf63c60_3    conda-forge\n",
      "libgd                     2.2.5                hed1f559_4    conda-forge\n",
      "libgfortran               3.0.0                         1    conda-forge\n",
      "libgfortran-ng            7.2.0                hdf63c60_3    conda-forge\n",
      "libiconv                  1.15                 h470a237_3    conda-forge\n",
      "libpng                    1.6.36               ha92aebf_0    conda-forge\n",
      "libssh2                   1.8.0                h5b517e9_3    conda-forge\n",
      "libstdcxx-ng              7.2.0                hdf63c60_3    conda-forge\n",
      "libtiff                   4.0.10               he6b73bb_1    conda-forge\n",
      "libuuid                   2.32.1               h470a237_2    conda-forge\n",
      "libwebp                   1.0.1                h08eee79_0    conda-forge\n",
      "libxcb                    1.13                 h470a237_2    conda-forge\n",
      "libxml2                   2.9.8                h422b904_5    conda-forge\n",
      "lp_solve                  5.5.2.5              h470a237_1    conda-forge\n",
      "lzstring                  1.0.3                    py27_0    conda-forge\n",
      "make                      4.2.1             h470a237_1003    conda-forge\n",
      "markdown                  2.6.11                     py_0    conda-forge\n",
      "markupsafe                1.1.0            py27h470a237_0    conda-forge\n",
      "mathstats                 0.2.6.5                    py_0    bioconda\n",
      "matplotlib                2.2.3            py27h8e2386c_0    conda-forge\n",
      "metis                     5.1.0                hfc679d8_3    conda-forge\n",
      "mkl                       2018.0.3                      1  \n",
      "mkl_fft                   1.0.10                   py27_0    conda-forge\n",
      "mkl_random                1.0.2                    py27_0    conda-forge\n",
      "multiqc                   1.7                        py_1    bioconda\n",
      "ncurses                   6.1                  hfc679d8_2    conda-forge\n",
      "nettle                    3.3                           0    conda-forge\n",
      "networkx                  2.0                      py27_1    conda-forge\n",
      "ngsutils                  0.5.9                    py27_1    bioconda\n",
      "numpy                     1.15.0           py27h1b885b7_0  \n",
      "numpy-base                1.15.0           py27h3dfced4_0  \n",
      "openblas                  0.2.20                        8    conda-forge\n",
      "openjdk                   8.0.192              h470a237_2    conda-forge\n",
      "openssl                   1.0.2p               h470a237_2    conda-forge\n",
      "pango                     1.40.14              he752989_2    conda-forge\n",
      "pcre                      8.41                 hfc679d8_3    conda-forge\n",
      "perl                      5.26.2               h470a237_0    conda-forge\n",
      "perl-app-cpanminus        1.7044                  pl526_1    bioconda\n",
      "perl-archive-tar          2.32                    pl526_0    bioconda\n",
      "perl-autoloader           5.74                    pl526_1    bioconda\n",
      "perl-carp                 1.38                    pl526_1    bioconda\n",
      "perl-clone                0.41            pl526h470a237_0    bioconda\n",
      "perl-compress-raw-bzip2   2.083           pl526hfc679d8_0    bioconda\n",
      "perl-compress-raw-zlib    2.083           pl526h2d50403_0    bioconda\n",
      "perl-config-general       2.61                    pl526_1    bioconda\n",
      "perl-constant             1.33                    pl526_1    bioconda\n",
      "perl-cpan-meta            2.150010                pl526_0    bioconda\n",
      "perl-cpan-meta-requirements 2.140                   pl526_0    bioconda\n",
      "perl-cpan-meta-yaml       0.018                   pl526_0    bioconda\n",
      "perl-data-dumper          2.173                   pl526_0    bioconda\n",
      "perl-dbi                  1.642                   pl526_0    bioconda\n",
      "perl-digest-perl-md5      1.9                     pl526_1    bioconda\n",
      "perl-dynaloader           1.25                    pl526_1    bioconda\n",
      "perl-encode               2.88                    pl526_1    bioconda\n",
      "perl-exporter             5.72                    pl526_1    bioconda\n",
      "perl-exporter-tiny        1.002001                pl526_0    bioconda\n",
      "perl-extutils-cbuilder    0.280230                pl526_1    bioconda\n",
      "perl-extutils-makemaker   7.34                    pl526_3    bioconda\n",
      "perl-extutils-manifest    1.71                    pl526_0    bioconda\n",
      "perl-extutils-parsexs     3.35                    pl526_0    bioconda\n",
      "perl-file-path            2.15                    pl526_0    bioconda\n",
      "perl-file-temp            0.2304                  pl526_2    bioconda\n",
      "perl-font-ttf             1.06                    pl526_0    bioconda\n",
      "perl-gd                   2.69            pl526he941832_0    bioconda\n",
      "perl-getopt-long          2.50                    pl526_1    bioconda\n",
      "perl-io-compress          2.083           pl526hfc679d8_0    bioconda\n",
      "perl-io-string            1.08                    pl526_3    bioconda\n",
      "perl-io-zlib              1.10                    pl526_2    bioconda\n",
      "perl-ipc-cmd              1.02                    pl526_0    bioconda\n",
      "perl-json-pp              4.00                    pl526_0    bioconda\n",
      "perl-list-moreutils       0.428                   pl526_1    bioconda\n",
      "perl-list-moreutils-xs    0.428                   pl526_0    bioconda\n",
      "perl-locale-maketext-simple 0.21                    pl526_1    bioconda\n",
      "perl-math-bezier          0.01                    pl526_1    bioconda\n",
      "perl-math-round           0.07                    pl526_1    bioconda\n",
      "perl-math-vecstat         0.08                    pl526_1    bioconda\n",
      "perl-module-build         0.4224                  pl526_3    bioconda\n",
      "perl-module-corelist      5.20181218              pl526_0    bioconda\n",
      "perl-module-implementation 0.09                    pl526_2    bioconda\n",
      "perl-module-load          0.32                    pl526_1    bioconda\n",
      "perl-module-load-conditional 0.68                    pl526_2    bioconda\n",
      "perl-module-metadata      1.000033                pl526_0    bioconda\n",
      "perl-module-runtime       0.016                   pl526_0    bioconda\n",
      "perl-number-format        1.75                    pl526_3    bioconda\n",
      "perl-params-check         0.38                    pl526_1    bioconda\n",
      "perl-params-validate      1.29            pl526h470a237_0    bioconda\n",
      "perl-parent               0.236                   pl526_1    bioconda\n",
      "perl-pathtools            3.73                 h470a237_2    bioconda\n",
      "perl-perl-ostype          1.010                   pl526_1    bioconda\n",
      "perl-readonly             2.05                    pl526_0    bioconda\n",
      "perl-regexp-common        2017060201              pl526_0    bioconda\n",
      "perl-scalar-list-utils    1.45            pl526h470a237_3    bioconda\n",
      "perl-set-intspan          1.19                    pl526_1    bioconda\n",
      "perl-statistics-basic     1.6611                  pl526_2    bioconda\n",
      "perl-svg                  2.84                    pl526_0    bioconda\n",
      "perl-test-more            1.001002                pl526_1    bioconda\n",
      "perl-text-abbrev          1.02                    pl526_0    bioconda\n",
      "perl-text-format          0.59                    pl526_1    bioconda\n",
      "perl-text-parsewords      3.30                    pl526_0    bioconda\n",
      "perl-time-hires           1.9758                  pl526_0    bioconda\n",
      "perl-try-tiny             0.30                    pl526_0    bioconda\n",
      "perl-version              0.9924                  pl526_0    bioconda\n",
      "perl-xml-parser           2.44            pl526h3a4f0e9_6    bioconda\n",
      "perl-xsloader             0.24                    pl526_0    bioconda\n",
      "perl-yaml                 1.27                    pl526_0    bioconda\n",
      "picard                    2.9.2                         2    bioconda\n",
      "pigz                      2.3.4                         0    conda-forge\n",
      "pip                       18.1                  py27_1000    conda-forge\n"
     ]
    },
    {
     "name": "stdout",
     "output_type": "stream",
     "text": [
      "pixman                    0.34.0               h470a237_3    conda-forge\n",
      "pthread-stubs             0.4                  h470a237_1    conda-forge\n",
      "pycparser                 2.19                       py_0    conda-forge\n",
      "pyopenssl                 18.0.0                py27_1000    conda-forge\n",
      "pyparsing                 2.3.0                      py_0    conda-forge\n",
      "pyqt                      5.6.0            py27h8210e8a_8    conda-forge\n",
      "pysam                     0.11.2.2                 py27_1    bioconda\n",
      "pysocks                   1.6.8                 py27_1002    conda-forge\n",
      "python                    2.7.15               h33da82c_6    conda-forge\n",
      "python-dateutil           2.7.5                      py_0    conda-forge\n",
      "pytz                      2018.7                     py_0    conda-forge\n",
      "pyyaml                    3.13             py27h470a237_1    conda-forge\n",
      "qt                        5.6.2               h679f5bc_11    conda-forge\n",
      "qualimap                  2.2.2b                        0    bioconda\n",
      "quast                     5.0.2           py27pl526ha92aebf_0    bioconda\n",
      "r                         3.5.1                 r351_1000    conda-forge\n",
      "r-assertthat              0.2.0           r351h6115d3f_1001    conda-forge\n",
      "r-base                    3.5.1                h391c2eb_5    conda-forge\n",
      "r-bh                      1.66.0_1              r351_2001    conda-forge\n",
      "r-bitops                  1.0_6            r351hc070d10_2    conda-forge\n",
      "r-boot                    1.3_20                r351_1000    conda-forge\n",
      "r-class                   7.3_14           r351hc070d10_2    conda-forge\n",
      "r-cli                     1.0.1           r351h6115d3f_1000    conda-forge\n",
      "r-cluster                 2.0.7_1          r351h364d78e_0    conda-forge\n",
      "r-codetools               0.2_16          r351h6115d3f_1000    conda-forge\n",
      "r-colorspace              1.3_2            r351hc070d10_2    conda-forge\n",
      "r-crayon                  1.3.4           r351h6115d3f_1001    conda-forge\n",
      "r-digest                  0.6.18           r351hc070d10_0    conda-forge\n",
      "r-fansi                   0.4.0            r351hc070d10_0    conda-forge\n",
      "r-foreign                 0.8_71           r351hc070d10_2    conda-forge\n",
      "r-formatr                 1.5             r351h6115d3f_1001    conda-forge\n",
      "r-futile.logger           1.4.3           r351h6115d3f_1001    conda-forge\n",
      "r-futile.options          1.0.1           r351h6115d3f_1000    conda-forge\n",
      "r-getopt                  1.20.2                r351_2001    conda-forge\n",
      "r-ggplot2                 3.1.0           r351h6115d3f_1000    conda-forge\n",
      "r-glue                    1.3.0            r351h470a237_2    conda-forge\n",
      "r-gtable                  0.2.0           r351h6115d3f_1001    conda-forge\n",
      "r-kernsmooth              2.23_15          r351h364d78e_2    conda-forge\n",
      "r-labeling                0.3             r351h6115d3f_1001    conda-forge\n",
      "r-lambda.r                1.2.3           r351h6115d3f_1000    conda-forge\n",
      "r-lattice                 0.20_38          r351hc070d10_0    conda-forge\n",
      "r-lazyeval                0.2.1            r351hc070d10_2    conda-forge\n",
      "r-magrittr                1.5             r351h6115d3f_1001    conda-forge\n",
      "r-mass                    7.3_50           r351hc070d10_2    conda-forge\n",
      "r-matrix                  1.2_14           r351hc070d10_2    conda-forge\n",
      "r-mgcv                    1.8_24           r351hc070d10_2    conda-forge\n",
      "r-munsell                 0.5.0           r351h6115d3f_1001    conda-forge\n",
      "r-nlme                    3.1_137          r351h364d78e_0    conda-forge\n",
      "r-nnet                    7.3_12           r351hc070d10_2    conda-forge\n",
      "r-optparse                1.6.0                 r351_1001    conda-forge\n",
      "r-pillar                  1.3.1           r351h6115d3f_1000    conda-forge\n",
      "r-plyr                    1.8.4            r351h9d2a408_2    conda-forge\n",
      "r-r6                      2.3.0           r351h6115d3f_1000    conda-forge\n",
      "r-rcolorbrewer            1.1_2           r351h6115d3f_1001    conda-forge\n",
      "r-rcpp                    1.0.0            r351h9d2a408_0    conda-forge\n",
      "r-rcurl                   1.95_4.11        r351hc070d10_3    conda-forge\n",
      "r-recommended             3.5.1                 r351_1001    conda-forge\n",
      "r-reshape2                1.4.3            r351h9d2a408_2    conda-forge\n",
      "r-rlang                   0.3.0.1          r351h470a237_0    conda-forge\n",
      "r-rpart                   4.1_13           r351hc070d10_2    conda-forge\n",
      "r-scales                  1.0.0            r351h9d2a408_1    conda-forge\n",
      "r-snow                    0.4_3           r351h6115d3f_1000    conda-forge\n",
      "r-spatial                 7.3_11           r351hc070d10_2    conda-forge\n",
      "r-stringi                 1.2.4            r351h9d2a408_1    conda-forge\n",
      "r-stringr                 1.3.1           r351h6115d3f_1001    conda-forge\n",
      "r-survival                2.42_6           r351hc070d10_1    conda-forge\n",
      "r-tibble                  1.4.2            r351hc070d10_2    conda-forge\n",
      "r-utf8                    1.1.4            r351hc070d10_0    conda-forge\n",
      "r-viridislite             0.3.0           r351h6115d3f_1001    conda-forge\n",
      "r-withr                   2.1.2           r351h6115d3f_1000    conda-forge\n",
      "r-xml                     3.98_1.16        r351hc070d10_0    conda-forge\n",
      "readline                  7.0                  haf1bffa_1    conda-forge\n",
      "reaper                    16.098               ha92aebf_2    bioconda\n",
      "requests                  2.21.0                py27_1000    conda-forge\n",
      "samtools                  1.4.1                         0    bioconda\n",
      "scipy                     1.1.0            py27hc49cb51_0  \n",
      "seqtk                     1.3                  ha92aebf_0    bioconda\n",
      "setuptools                40.6.3                   py27_0    conda-forge\n",
      "simplejson                3.8.1                    py27_0    bioconda\n",
      "singledispatch            3.4.0.3               py27_1000    conda-forge\n",
      "sip                       4.18.1           py27hfc679d8_0    conda-forge\n",
      "six                       1.12.0                py27_1000    conda-forge\n",
      "snpeff                    4.3.1t                        1    bioconda\n",
      "spades                    3.13.0                        0    bioconda\n",
      "spectra                   0.0.11                     py_0    conda-forge\n",
      "sqlite                    3.26.0               hb1c47c0_0    conda-forge\n",
      "subprocess32              3.5.3            py27h470a237_0    conda-forge\n",
      "suitesparse               5.2.0                h171a5a3_0  \n",
      "swalign                   0.3.4                    py27_0    bioconda\n",
      "tbb                       2018_20171205                 0    conda-forge\n",
      "tk                        8.6.9                ha92aebf_0    conda-forge\n",
      "tktable                   2.10                 h14c3975_0  \n",
      "tornado                   5.1.1            py27h470a237_0    conda-forge\n",
      "urllib3                   1.24.1                py27_1000    conda-forge\n",
      "vcflib                    1.0.0_rc2            h82df9c4_0    bioconda\n",
      "vcftools                  0.1.15               he941832_2    bioconda\n",
      "wget                      1.19.5               h1ad7b7a_0  \n",
      "wheel                     0.32.3                   py27_0    conda-forge\n",
      "xopen                     0.3.5                      py_0    bioconda\n",
      "xorg-kbproto              1.0.7                h470a237_2    conda-forge\n",
      "xorg-libice               1.0.9                h470a237_4    conda-forge\n",
      "xorg-libsm                1.2.3                h8c8a85c_0    conda-forge\n",
      "xorg-libx11               1.6.6                h470a237_0    conda-forge\n",
      "xorg-libxau               1.0.8                h470a237_6    conda-forge\n",
      "xorg-libxdmcp             1.1.2                h470a237_7    conda-forge\n",
      "xorg-libxext              1.3.3                h470a237_4    conda-forge\n",
      "xorg-libxrender           0.9.10               h470a237_2    conda-forge\n",
      "xorg-libxt                1.1.5                h470a237_2    conda-forge\n",
      "xorg-renderproto          0.11.1               h470a237_2    conda-forge\n",
      "xorg-xextproto            7.3.0                h470a237_2    conda-forge\n",
      "xorg-xproto               7.0.31               h470a237_7    conda-forge\n",
      "xz                        5.2.4                h470a237_1    conda-forge\n",
      "yaml                      0.1.7                h470a237_1    conda-forge\n"
     ]
    },
    {
     "name": "stdout",
     "output_type": "stream",
     "text": [
      "zlib                      1.2.11               h470a237_3    conda-forge\n",
      "(treponema) (treponema) (treponema) "
     ]
    },
    {
     "ename": "",
     "evalue": "1",
     "output_type": "error",
     "traceback": []
    }
   ],
   "source": [
    "source activate treponema\n",
    "# In case we want to export the system settings and software versions\n",
    "conda info\n",
    "conda list\n",
    "# In case we modified the environment want to export it\n",
    "#conda env export > treponema_mod.yml"
   ]
  },
  {
   "cell_type": "markdown",
   "metadata": {},
   "source": [
    "## Running the workflow"
   ]
  },
  {
   "cell_type": "markdown",
   "metadata": {},
   "source": [
    "### Input variables"
   ]
  },
  {
   "cell_type": "markdown",
   "metadata": {},
   "source": [
    "First, we have to setup few variables which will be used throughout the analysis."
   ]
  },
  {
   "cell_type": "code",
   "execution_count": 25,
   "metadata": {},
   "outputs": [
    {
     "name": "stdout",
     "output_type": "stream",
     "text": [
      "(treponema) (treponema) (treponema) (treponema) (treponema) (treponema) (treponema) (treponema) (treponema) (treponema) (treponema) (treponema) "
     ]
    },
    {
     "ename": "",
     "evalue": "1",
     "output_type": "error",
     "traceback": []
    }
   ],
   "source": [
    "INPUT_DIR=\"/home/jan/Projects/treponema/data/raw\"\n",
    "OUTPUT_DIR=\"/home/jan/Projects/treponema/results\"\n",
    "\n",
    "THREADS=6\n",
    "\n",
    "ADAPTER_R1=\"CTGTCTCTTATACACATCT\"\n",
    "ADAPTER_R2=$ADAPTER_R1\n",
    "\n",
    "HOST_GENOME=\"/home/jan/Projects/treponema/data/references/GCF_000001405.36_GRCh38.p10_genomic.fna.gz\" # ftp://ftp.ncbi.nlm.nih.gov/genomes/all/GCF/000/001/405/GCF_000001405.36_GRCh38.p10/GCF_000001405.36_GRCh38.p10_genomic.fna.gz\n",
    "STRAINSEEKER_DB=\"/home/jan/Projects/treponema/data/references/strainseeker/ss_db_w32_4324\"\n",
    "\n",
    "REFERENCE=\"/home/jan/Projects/treponema/data/references/SS14.fa\" # Bacteria reference genome"
   ]
  },
  {
   "cell_type": "markdown",
   "metadata": {},
   "source": [
    "### Initial quality check"
   ]
  },
  {
   "cell_type": "markdown",
   "metadata": {},
   "source": [
    "It is always a good idea to run an initial quality check on your data."
   ]
  },
  {
   "cell_type": "code",
   "execution_count": 8,
   "metadata": {},
   "outputs": [
    {
     "name": "stdout",
     "output_type": "stream",
     "text": [
      "(treponema) (treponema) Started analysis of CW56_S1_R1_001.fastq.gz\n",
      "Started analysis of CW56_S1_R2_001.fastq.gz\n",
      "Approx 5% complete for CW56_S1_R1_001.fastq.gz\n",
      "Approx 5% complete for CW56_S1_R2_001.fastq.gz\n",
      "Approx 10% complete for CW56_S1_R1_001.fastq.gz\n",
      "Approx 10% complete for CW56_S1_R2_001.fastq.gz\n",
      "Approx 15% complete for CW56_S1_R1_001.fastq.gz\n",
      "Approx 15% complete for CW56_S1_R2_001.fastq.gz\n",
      "Approx 20% complete for CW56_S1_R1_001.fastq.gz\n",
      "Approx 20% complete for CW56_S1_R2_001.fastq.gz\n",
      "Approx 25% complete for CW56_S1_R1_001.fastq.gz\n",
      "Approx 25% complete for CW56_S1_R2_001.fastq.gz\n",
      "Approx 30% complete for CW56_S1_R1_001.fastq.gz\n",
      "Approx 30% complete for CW56_S1_R2_001.fastq.gz\n",
      "Approx 35% complete for CW56_S1_R2_001.fastq.gz\n",
      "Approx 35% complete for CW56_S1_R1_001.fastq.gz\n",
      "Approx 40% complete for CW56_S1_R2_001.fastq.gz\n",
      "Approx 40% complete for CW56_S1_R1_001.fastq.gz\n",
      "Approx 45% complete for CW56_S1_R2_001.fastq.gz\n",
      "Approx 45% complete for CW56_S1_R1_001.fastq.gz\n",
      "Approx 50% complete for CW56_S1_R1_001.fastq.gz\n",
      "Approx 50% complete for CW56_S1_R2_001.fastq.gz\n",
      "Approx 55% complete for CW56_S1_R1_001.fastq.gz\n",
      "Approx 55% complete for CW56_S1_R2_001.fastq.gz\n",
      "Approx 60% complete for CW56_S1_R1_001.fastq.gz\n",
      "Approx 60% complete for CW56_S1_R2_001.fastq.gz\n",
      "Approx 65% complete for CW56_S1_R1_001.fastq.gz\n",
      "Approx 65% complete for CW56_S1_R2_001.fastq.gz\n",
      "Approx 70% complete for CW56_S1_R1_001.fastq.gz\n",
      "Approx 70% complete for CW56_S1_R2_001.fastq.gz\n",
      "Approx 75% complete for CW56_S1_R1_001.fastq.gz\n",
      "Approx 75% complete for CW56_S1_R2_001.fastq.gz\n",
      "Approx 80% complete for CW56_S1_R1_001.fastq.gz\n",
      "Approx 80% complete for CW56_S1_R2_001.fastq.gz\n",
      "Approx 85% complete for CW56_S1_R1_001.fastq.gz\n",
      "Approx 85% complete for CW56_S1_R2_001.fastq.gz\n",
      "Approx 90% complete for CW56_S1_R1_001.fastq.gz\n",
      "Approx 90% complete for CW56_S1_R2_001.fastq.gz\n",
      "Approx 95% complete for CW56_S1_R1_001.fastq.gz\n",
      "Approx 95% complete for CW56_S1_R2_001.fastq.gz\n",
      "Analysis complete for CW56_S1_R1_001.fastq.gz\n",
      "Analysis complete for CW56_S1_R2_001.fastq.gz\n",
      "(treponema) (treponema) [INFO   ]         multiqc : This is MultiQC v1.7\n",
      "[INFO   ]         multiqc : Template    : default\n",
      "[INFO   ]         multiqc : Searching '/home/jan/Projects/treponema/results/qc/fastqc/raw/'\n",
      "[INFO   ]          fastqc : Found 2 reports\n",
      "[INFO   ]         multiqc : Compressing plot data\n",
      "[INFO   ]         multiqc : Report      : ../../../../Projects/treponema/results/qc/fastqc/raw/multiqc_report.html\n",
      "[INFO   ]         multiqc : Data        : ../../../../Projects/treponema/results/qc/fastqc/raw/multiqc_data\n",
      "[INFO   ]         multiqc : MultiQC complete\n",
      "(treponema) "
     ]
    },
    {
     "ename": "",
     "evalue": "1",
     "output_type": "error",
     "traceback": []
    }
   ],
   "source": [
    "mkdir -p $OUTPUT_DIR/qc/fastqc/raw\n",
    "\n",
    "fastqc --threads $THREADS --outdir $OUTPUT_DIR/qc/fastqc/raw $INPUT_DIR/*.gz\n",
    "\n",
    "multiqc --outdir $OUTPUT_DIR/qc/fastqc/raw $OUTPUT_DIR/qc/fastqc/raw/ "
   ]
  },
  {
   "cell_type": "markdown",
   "metadata": {},
   "source": [
    "### Read preprocessing"
   ]
  },
  {
   "cell_type": "markdown",
   "metadata": {},
   "source": [
    "Since we are working with DNA data and aiming for the results including the polymorphisms we should perform a careful preprocessing to remove the adapter sequences and perform quality trimming."
   ]
  },
  {
   "cell_type": "code",
   "execution_count": 18,
   "metadata": {},
   "outputs": [
    {
     "name": "stdout",
     "output_type": "stream",
     "text": [
      "(treponema) mkdir: cannot create directory ‘/home/jan/Projects/treponema/results/qc/cutadapt’: File exists\n",
      "(treponema) mkdir: cannot create directory ‘/home/jan/Projects/treponema/results/qc/fastqc/preprocessed’: File exists\n",
      "(treponema) (treponema) (treponema) (treponema) Now I am processing CW56_S1_R1_001.fastq.gz as first in a pair and CW56_S1_R2_001.fastq.gz as a second in a pair.\n",
      "Done processing CW56_S1_R1_001.fastq.gz and CW56_S1_R2_001.fastq.gz\n",
      "(treponema) (treponema) Started analysis of CW56_S1_R1.trimmed.fastq.gz\n",
      "Started analysis of CW56_S1_R2.trimmed.fastq.gz\n",
      "Approx 5% complete for CW56_S1_R1.trimmed.fastq.gz\n",
      "Approx 5% complete for CW56_S1_R2.trimmed.fastq.gz\n",
      "Approx 10% complete for CW56_S1_R1.trimmed.fastq.gz\n",
      "Approx 10% complete for CW56_S1_R2.trimmed.fastq.gz\n",
      "Approx 15% complete for CW56_S1_R1.trimmed.fastq.gz\n",
      "Approx 15% complete for CW56_S1_R2.trimmed.fastq.gz\n",
      "Approx 20% complete for CW56_S1_R1.trimmed.fastq.gz\n",
      "Approx 20% complete for CW56_S1_R2.trimmed.fastq.gz\n",
      "Approx 25% complete for CW56_S1_R1.trimmed.fastq.gz\n",
      "Approx 25% complete for CW56_S1_R2.trimmed.fastq.gz\n",
      "Approx 30% complete for CW56_S1_R1.trimmed.fastq.gz\n",
      "Approx 30% complete for CW56_S1_R2.trimmed.fastq.gz\n",
      "Approx 35% complete for CW56_S1_R1.trimmed.fastq.gz\n",
      "Approx 35% complete for CW56_S1_R2.trimmed.fastq.gz\n",
      "Approx 40% complete for CW56_S1_R1.trimmed.fastq.gz\n",
      "Approx 40% complete for CW56_S1_R2.trimmed.fastq.gz\n",
      "Approx 45% complete for CW56_S1_R1.trimmed.fastq.gz\n",
      "Approx 45% complete for CW56_S1_R2.trimmed.fastq.gz\n",
      "Approx 50% complete for CW56_S1_R1.trimmed.fastq.gz\n",
      "Approx 50% complete for CW56_S1_R2.trimmed.fastq.gz\n",
      "Approx 55% complete for CW56_S1_R1.trimmed.fastq.gz\n",
      "Approx 55% complete for CW56_S1_R2.trimmed.fastq.gz\n",
      "Approx 60% complete for CW56_S1_R1.trimmed.fastq.gz\n",
      "Approx 60% complete for CW56_S1_R2.trimmed.fastq.gz\n",
      "Approx 65% complete for CW56_S1_R1.trimmed.fastq.gz\n",
      "Approx 65% complete for CW56_S1_R2.trimmed.fastq.gz\n",
      "Approx 70% complete for CW56_S1_R1.trimmed.fastq.gz\n",
      "Approx 70% complete for CW56_S1_R2.trimmed.fastq.gz\n",
      "Approx 75% complete for CW56_S1_R1.trimmed.fastq.gz\n",
      "Approx 75% complete for CW56_S1_R2.trimmed.fastq.gz\n",
      "Approx 80% complete for CW56_S1_R1.trimmed.fastq.gz\n",
      "Approx 80% complete for CW56_S1_R2.trimmed.fastq.gz\n",
      "Approx 85% complete for CW56_S1_R1.trimmed.fastq.gz\n",
      "Approx 85% complete for CW56_S1_R2.trimmed.fastq.gz\n",
      "Approx 90% complete for CW56_S1_R1.trimmed.fastq.gz\n",
      "Approx 90% complete for CW56_S1_R2.trimmed.fastq.gz\n",
      "Approx 95% complete for CW56_S1_R1.trimmed.fastq.gz\n",
      "Approx 95% complete for CW56_S1_R2.trimmed.fastq.gz\n",
      "Analysis complete for CW56_S1_R1.trimmed.fastq.gz\n",
      "Analysis complete for CW56_S1_R2.trimmed.fastq.gz\n",
      "(treponema) (treponema) [INFO   ]         multiqc : This is MultiQC v1.7\n",
      "[INFO   ]         multiqc : Template    : default\n",
      "[INFO   ]         multiqc : Searching '/home/jan/Projects/treponema/results/qc/cutadapt/'\n",
      "[INFO   ]        cutadapt : Found 1 reports\n",
      "[INFO   ]         multiqc : Compressing plot data\n",
      "[INFO   ]         multiqc : Report      : ../../../../../Projects/treponema/results/qc/cutadapt/multiqc_report.html\n",
      "[INFO   ]         multiqc : Data        : ../../../../../Projects/treponema/results/qc/cutadapt/multiqc_data\n",
      "[INFO   ]         multiqc : MultiQC complete\n",
      "(treponema) "
     ]
    },
    {
     "ename": "",
     "evalue": "1",
     "output_type": "error",
     "traceback": []
    }
   ],
   "source": [
    "mkdir -p $OUTPUT_DIR/data/preprocessed\n",
    "mkdir $OUTPUT_DIR/qc/cutadapt\n",
    "mkdir $OUTPUT_DIR/qc/fastqc/preprocessed\n",
    "\n",
    "cd $INPUT_DIR/\n",
    "\n",
    "for sample in *R1*.gz\n",
    "do\n",
    "    FORWARD=$sample\n",
    "    extension=\"${FORWARD##*R1}\"\n",
    "    REVERSE=${FORWARD%R1*}R2${extension}\n",
    "\n",
    "    # Input file check\n",
    "    if [ ! -f ${FORWARD} ]; then\n",
    "    echo \"Input file not found! First in pair.\"; echo ${FORWARD}\n",
    "    fi\n",
    "    if [ ! -f ${REVERSE} ]; then\n",
    "    echo \"Input file not found! Second in pair.\"; echo ${REVERSE}\n",
    "    fi\n",
    "\n",
    "    echo \"Now I am processing ${FORWARD} as first in a pair and ${REVERSE} as a second in a pair.\"\n",
    "\n",
    "    cutadapt -a $ADAPTER_R1 -A $ADAPTER_R2 \\\n",
    "    --times 1 --quality-cutoff 15,15 --trim-n \\\n",
    "    --error-rate 0.10 -O 3 --minimum-length 35 --max-n 0 \\\n",
    "    --output $OUTPUT_DIR/data/preprocessed/${FORWARD%$extension}.trimmed.fastq.gz \\\n",
    "    --paired-output $OUTPUT_DIR/data/preprocessed/${REVERSE%$extension}.trimmed.fastq.gz \\\n",
    "    $FORWARD $REVERSE &>$OUTPUT_DIR/qc/cutadapt/${FORWARD%_R1${extension}}.cutadapt.out\n",
    "\n",
    "    echo \"Done processing $FORWARD and $REVERSE\"\n",
    "done\n",
    "\n",
    "multiqc --outdir $OUTPUT_DIR/qc/cutadapt $OUTPUT_DIR/qc/cutadapt/\n",
    "\n",
    "fastqc --threads $THREADS --outdir $OUTPUT_DIR/qc/fastqc/preprocessed $OUTPUT_DIR/data/preprocessed/*.gz\n",
    "\n",
    "multiqc --outdir $OUTPUT_DIR/qc/fastqc/preprocessed $OUTPUT_DIR/qc/fastqc/preprocessed/"
   ]
  },
  {
   "cell_type": "markdown",
   "metadata": {},
   "source": [
    "### Host genome contamination removal"
   ]
  },
  {
   "cell_type": "markdown",
   "metadata": {},
   "source": [
    "Removal of the host genome DNA before the analysis speeds up the analysis and we will be working with much smaller files as well. "
   ]
  },
  {
   "cell_type": "code",
   "execution_count": 24,
   "metadata": {},
   "outputs": [
    {
     "name": "stdout",
     "output_type": "stream",
     "text": [
      "(treponema) mkdir: cannot create directory ‘/home/jan/Projects/treponema/data/references/bbmap_index’: File exists\n",
      "(treponema) (treponema) (treponema) java -Djava.library.path=/home/jan/Tools/anaconda/envs/treponema/opt/bbmap-38.22-0/jni/ -ea -Xmx2g -cp /home/jan/Tools/anaconda/envs/treponema/opt/bbmap-38.22-0/current/ align2.BBMap build=1 overwrite=true fastareadlen=500 ref=/home/jan/Projects/treponema/data/references/GCF_000001405.36_GRCh38.p10_genomic.fna.gz -Xmx2g path=./bbmap_index/HOST_GENOME\n",
      "Executing align2.BBMap [build=1, overwrite=true, fastareadlen=500, ref=/home/jan/Projects/treponema/data/references/GCF_000001405.36_GRCh38.p10_genomic.fna.gz, -Xmx2g, path=./bbmap_index/HOST_GENOME]\n",
      "Version 38.22\n",
      "\n",
      "No output file.\n",
      "NOTE:\tDeleting contents of ./bbmap_index/HOST_GENOME/ref/genome/1 because reference is specified and overwrite=true\n",
      "Writing reference.\n",
      "Executing dna.FastaToChromArrays2 [/home/jan/Projects/treponema/data/references/GCF_000001405.36_GRCh38.p10_genomic.fna.gz, 1, writeinthread=false, genscaffoldinfo=true, retain, waitforwriting=false, gz=true, maxlen=536670912, writechroms=true, minscaf=1, midpad=300, startpad=8000, stoppad=8000, nodisk=false]\n",
      "\n",
      "Set genScaffoldInfo=true\n",
      "java.lang.OutOfMemoryError: Java heap space\n",
      "\tat shared.KillSwitch.allocByte1D(KillSwitch.java:200)\n",
      "\tat dna.ChromosomeArray.resize(ChromosomeArray.java:320)\n",
      "\tat dna.ChromosomeArray.set(ChromosomeArray.java:173)\n",
      "\tat dna.ChromosomeArray.set(ChromosomeArray.java:164)\n",
      "\tat dna.FastaToChromArrays2.makeNextChrom(FastaToChromArrays2.java:475)\n",
      "\tat dna.FastaToChromArrays2.makeChroms(FastaToChromArrays2.java:342)\n",
      "\tat dna.FastaToChromArrays2.main2(FastaToChromArrays2.java:151)\n",
      "\tat align2.RefToIndex.makeIndex(RefToIndex.java:147)\n",
      "\tat align2.BBMap.setup(BBMap.java:278)\n",
      "\tat align2.AbstractMapper.<init>(AbstractMapper.java:57)\n",
      "\tat align2.BBMap.<init>(BBMap.java:43)\n",
      "\tat align2.BBMap.main(BBMap.java:31)\n",
      "\n",
      "This program ran out of memory.\n",
      "Try increasing the -Xmx flag and using tool-specific memory-related parameters.\n",
      "(treponema) (treponema) (treponema) mkdir: cannot create directory ‘/home/jan/Projects/treponema/results/qc/bbmap’: File exists\n",
      "(treponema) (treponema) (treponema) (treponema) Now I am processing CW56_S1_R1.trimmed.fastq.gz as first in a pair and CW56_S1_R2.trimmed.fastq.gz as a second in a pair with reference /home/jan/Projects/treponema/data/references/GCF_000001405.36_GRCh38.p10_genomic.fna.gz.\n",
      "java -ea -Xmx12g -cp /home/jan/Tools/anaconda/envs/treponema/opt/bbmap-38.22-0/current/ jgi.ReformatReads -Xmx12g verifypaired in=/home/jan/Projects/treponema/results/data/preprocessed/CW56_S1.clean.fastq.gz out1=/home/jan/Projects/treponema/results/data/preprocessed/CW56_S1_R1.clean.fastq.gz out2=/home/jan/Projects/treponema/results/data/preprocessed/CW56_S1_R2.clean.fastq.gz\n",
      "Executing jgi.ReformatReads [-Xmx12g, verifypaired, in=/home/jan/Projects/treponema/results/data/preprocessed/CW56_S1.clean.fastq.gz, out1=/home/jan/Projects/treponema/results/data/preprocessed/CW56_S1_R1.clean.fastq.gz, out2=/home/jan/Projects/treponema/results/data/preprocessed/CW56_S1_R2.clean.fastq.gz]\n",
      "\n",
      "Exception in thread \"main\" java.lang.RuntimeException: Can't read file '/home/jan/Projects/treponema/results/data/preprocessed/CW56_S1.clean.fastq.gz'\n",
      "\tat shared.Tools.testInputFiles(Tools.java:996)\n",
      "\tat jgi.ReformatReads.<init>(ReformatReads.java:304)\n",
      "\tat jgi.ReformatReads.main(ReformatReads.java:45)\n",
      "rm: cannot remove ‘/bbmap/CW56_S1_R1.trimmed.fastq.gz.dirty.fastq.gz’: No such file or directory\n",
      "(treponema) "
     ]
    },
    {
     "ename": "",
     "evalue": "1",
     "output_type": "error",
     "traceback": []
    }
   ],
   "source": [
    "# Generate a host genome DNA reference index - please run just once\n",
    "mkdir $(dirname $HOST_GENOME)/bbmap_index\n",
    "\n",
    "# If the host genome index does not exist create it\n",
    "if [ ! -d \"$(dirname $HOST_GENOME)/bbmap_index/$(basename $HOST_GENOME)\" ]; then\n",
    "    mkdir $(dirname $HOST_GENOME)/bbmap_index/$(basename $HOST_GENOME)\n",
    "    bbmap.sh ref=$HOST_GENOME -Xmx20g path=$(dirname $HOST_GENOME)/bbmap_index/$(basename $HOST_GENOME)\n",
    "fi\n",
    "\n",
    "# Run the host genome reference removal\n",
    "mkdir $OUTPUT_DIR/qc/bbmap\n",
    "\n",
    "cd $OUTPUT_DIR/data/preprocessed/\n",
    "\n",
    "for sample in *R1*trimmed.fastq.gz\n",
    "do\n",
    "    FORWARD=$sample\n",
    "    extension=\"${FORWARD##*R1}\"\n",
    "    REVERSE=${FORWARD%R1*}R2${extension}\n",
    "\n",
    "    # Input file check\n",
    "    if [ ! -f ${FORWARD} ]; then\n",
    "        echo \"Input file not found! First in pair.\"; echo ${FORWARD}\n",
    "    fi\n",
    "    if [ ! -f ${REVERSE} ]; then\n",
    "        echo \"Input file not found! Second in pair.\"; echo ${REVERSE}\n",
    "    fi\n",
    "\n",
    "    echo \"Now I am processing ${FORWARD} as first in a pair and ${REVERSE} as a second in a pair with reference $HOST_GENOME.\"\n",
    "\n",
    "    # Start mapping\n",
    "    bbmap.sh threads=$THREADS -Xmx25g minid=0.95 maxindel=3 bandwidthratio=0.16 \\\n",
    "    bandwidth=12 quickmatch fast minhits=2 path=$(dirname $HOST_GENOME)/bbmap_index/$(basename $HOST_GENOME) unpigz pigz \\\n",
    "    in=${FORWARD} in2=${REVERSE} outu=$OUTPUT_DIR/data/preprocessed/${FORWARD%_R1${extension}}.clean.fastq.gz \\\n",
    "    outm=$OUTPUT_DIR/data/preprocessed/${FORWARD%_R1${extension}}.dirty.fastq.gz &>$OUTPUT_DIR/qc/bbmap/${FORWARD%_R1${extension}}.bbmap.out # qtrim=rl trimq=10 untrim  # We already have preprocessed data, no need for this\n",
    "\n",
    "    # De-interleave\n",
    "    reformat.sh -Xmx12g verifypaired in=$OUTPUT_DIR/data/preprocessed/${FORWARD%_R1${extension}}.clean.fastq.gz \\\n",
    "    out1=$OUTPUT_DIR/data/preprocessed/${FORWARD%${extension}}.clean.fastq.gz out2=$OUTPUT_DIR/data/preprocessed/${REVERSE%${extension}}.clean.fastq.gz\n",
    "\n",
    "    # Remove the host genome mapped reads (usefull for mapping precision)\n",
    "    rm $OUTPUT_DIR/data/preprocessed/${FORWARD%_R1${extension}}.clean.fastq.gz\n",
    "    rm $OUTPUT_DIR/data/preprocessed/${FORWARD%_R1${extension}}.dirty.fastq.gz\n",
    "done"
   ]
  },
  {
   "cell_type": "markdown",
   "metadata": {},
   "source": [
    "### Bacteria contamination scan (optional)"
   ]
  },
  {
   "cell_type": "markdown",
   "metadata": {},
   "source": [
    "Before we start with the alignment we can quickly scan for possible bacterial contamination in our dataset. This scan uses default StrainSeeker database which is most likely outdated but StrainSeeker offers a possibility to generate your [own index](http://bioinfo.ut.ee/strainseeker/index.php?r=site/page&view=manual#database) for the scan with their builder script. One advanatage over tools such as [https://ccb.jhu.edu/software/kraken2/](Kraken2) (a great tool) is that is consumes much less RAM. However, the latest releases of MiniKraken2 could be used as well.  "
   ]
  },
  {
   "cell_type": "code",
   "execution_count": null,
   "metadata": {},
   "outputs": [],
   "source": [
    "mkdir $OUTPUT_DIR/qc/seeker\n",
    "\n",
    "cd $OUTPUT_DIR/data/preprocessed/\n",
    "\n",
    "for sample in *.clean.fastq.gz\n",
    "do \n",
    "    echo \"Working on sample $sample\"\n",
    "\n",
    "    echo \"Subsampling\"\n",
    "    seqtk sample -s100 $sample 1000000 > $sample.sub # Subsample fastq\n",
    "\n",
    "    echo \"Scanning\"\n",
    "    perl seeker.pl -i $sample.sub -d $STRAINSEEKER_DB -o $OUTPUT_DIR/data/preprocessed/${sample%.fastq.gz}.seeker.txt\n",
    "\n",
    "    rm $sample.sub\n",
    "done"
   ]
  },
  {
   "cell_type": "markdown",
   "metadata": {},
   "source": [
    "### Bacteria reference genome alignment"
   ]
  },
  {
   "cell_type": "markdown",
   "metadata": {},
   "source": [
    "With host genome DNA cleaned data we can proceed to the alignment to the reference."
   ]
  },
  {
   "cell_type": "code",
   "execution_count": 26,
   "metadata": {},
   "outputs": [
    {
     "name": "stdout",
     "output_type": "stream",
     "text": [
      "[bwa_index] Pack FASTA... 0.01 sec\n",
      "[bwa_index] Construct BWT for the packed sequence...\n",
      "[bwa_index] 0.18 seconds elapse.\n",
      "[bwa_index] Update BWT... 0.01 sec\n",
      "[bwa_index] Pack forward-only FASTA... 0.01 sec\n",
      "[bwa_index] Construct SA from BWT and Occ... 0.09 sec\n",
      "[main] Version: 0.7.15-r1140\n",
      "[main] CMD: bwa index /home/jan/Projects/treponema/data/references/SS14.fa\n",
      "[main] Real time: 0.886 sec; CPU: 0.292 sec\n",
      "(treponema) (treponema) "
     ]
    },
    {
     "ename": "",
     "evalue": "1",
     "output_type": "error",
     "traceback": []
    }
   ],
   "source": [
    "# Prepare reference indexes\n",
    "bwa index $REFERENCE\n",
    "samtools faidx $REFERENCE\n",
    "\n",
    "mkdir -p $OUTPUT_DIR/qc/alignment_stats\n",
    "\n",
    "\n",
    "for sample in *R1*clean.fastq.gz\n",
    "    FORWARD=$sample\n",
    "    extension=\"${FORWARD##*R1}\"\n",
    "    REVERSE=${FORWARD%R1*}R2${extension}\n",
    "\n",
    "    cd $SCRATCH/\n",
    "\n",
    "    # Input file check\n",
    "    if [ ! -f ${FORWARD} ]; then\n",
    "        echo \"Input file not found! First in pair.\"; echo ${FORWARD}\n",
    "    fi\n",
    "    if [ ! -f ${REVERSE} ]; then\n",
    "        echo \"Input file not found! Second in pair.\"; echo ${REVERSE}\n",
    "    fi\n",
    "\n",
    "    # Start mapping\n",
    "    echo \"Now I am processing ${FORWARD} as first in a pair and ${REVERSE} as a second in a pair with reference $REF_DIR/$REF_SEQ\"\n",
    "\n",
    "    $BWA mem -t $THREADS -T $BWAMEMT -v 1 -M -R \"@RG\\tID:1\\tLB:${sample%%.*}\\tPL:Illumina\\tSM:${sample%%.*}\\tPU:${sample%%.*}\" $SCRATCH/$REF_SEQ ${FORWARD} ${REVERSE} | $SAMTOOLS view -F 4 -@ $THREADS -b - | $SAMTOOLS sort -@ $THREADS - > $SCRATCH/alignment/${FORWARD%$APPENDIX1*}.${REF_SEQ%.*}.bam # Keep only aligned reads and fix mate information; should be try -k 23? This might decrease number of mismapped reads but who knows what it does to highly variable regions\n",
    "\n",
    "    echo \"Mapping finished\"\n",
    "    #rm $FORWARD $REVERSE\n",
    "\n",
    "    cd $SCRATCH/alignment\n",
    "\n",
    "    i=${FORWARD%$APPENDIX1*}.${REF_SEQ%.*}.bam\n",
    "\n",
    "    $SAMTOOLS index -@ $THREADS $i # Index BAM files\n",
    "    $SAMTOOLS flagstat $i > $SCRATCH/alignment/stats/${i%.*}.flagstat &\n",
    "    $SAMTOOLS view -@ $THREADS -h -F 12 -f 2 -F 256 -b $i | $SAMTOOLS sort -n -@ $THREADS - | $SAMTOOLS fixmate -O bam - - | $SAMTOOLS sort -@ $THREADS - > ${i%.*}.filt.bam # -F 2048 = supplementary alignment, \"chimeric/non-linear alignments\"; -q $MAPQ\n",
    "    $SAMTOOLS index -@ $THREADS ${i%.*}.filt.bam\n",
    "    $SAMTOOLS flagstat ${i%.*}.filt.bam > $SCRATCH/alignment/stats/${i%.*}.filt.flagstat\n",
    "\n",
    "    # Postprocessing\n",
    "    # Create input seqence dictionary and index reference\n",
    "    rm $SCRATCH/${REF_SEQ%.*}.dict\n",
    "    $PICARD_RUN CreateSequenceDictionary R=$SCRATCH/$REF_SEQ O=$SCRATCH/${REF_SEQ%.*}.dict\n",
    "\n",
    "    # Realign\n",
    "    i=${i%.*}.filt.bam\n",
    "\n",
    "    $GATK_RUN -T RealignerTargetCreator --num_threads $THREADS -R $SCRATCH/$REF_SEQ -I ${i} -o $SCRATCH/alignment/${i%.*}.forIndelRealigner.intervals # Prepare intervals\n",
    "    $GATK_RUN -I ${i} -R $SCRATCH/$REF_SEQ -T IndelRealigner -LOD 2.5 --consensusDeterminationModel USE_SW -targetIntervals $SCRATCH/alignment/${i%.*}.forIndelRealigner.intervals -o $SCRATCH/alignment/${i%.*}.indelRealigned.bam # Run re-alignment\n",
    "\n",
    "    $SAMTOOLS index -@ $THREADS ${i%.*}.indelRealigned.bam # Index BAM files\n",
    "\n",
    "    rm $i\n",
    "    rm $i*\n",
    "    rm $SCRATCH/alignment/${i%.*}.indelRealigned.bai\n",
    "    rm $SCRATCH/alignment/${i%.*}.forIndelRealigner.intervals\n",
    "\n",
    "    # Remove duplicates\n",
    "    i=${i%.*}.indelRealigned.bam\n",
    "\n",
    "    mkdir $SCRATCH/picard_dup\n",
    "    $PICARD_RUN MarkDuplicates INPUT=$i OUTPUT=${i%.*}.dedup.bam METRICS_FILE=$SCRATCH/picard_dup/${i%.*}.dedupStats.txt REMOVE_DUPLICATES=true OPTICAL_DUPLICATE_PIXEL_DISTANCE=100 # Taggs ALL duplicates, PCR and optical and remove them\n",
    "\n",
    "    $SAMTOOLS index -@ $THREADS ${i%.*}.dedup.bam\n",
    "    $SAMTOOLS flagstat ${i%.*}.dedup.bam > $SCRATCH/alignment/stats/${i%.*}.dedup.flagstat\n",
    "\n",
    "    rm $i\n",
    "    rm $i*\n",
    "done"
   ]
  },
  {
   "cell_type": "markdown",
   "metadata": {},
   "source": [
    "### Post-alignment filtering"
   ]
  },
  {
   "cell_type": "markdown",
   "metadata": {},
   "source": [
    "### Reference genome coverage"
   ]
  },
  {
   "cell_type": "markdown",
   "metadata": {},
   "source": [
    "### Consensus genome generation"
   ]
  },
  {
   "cell_type": "markdown",
   "metadata": {},
   "source": [
    "### BAM downsampling (optional)"
   ]
  },
  {
   "cell_type": "markdown",
   "metadata": {},
   "source": [
    "### Variant call"
   ]
  },
  {
   "cell_type": "markdown",
   "metadata": {},
   "source": [
    "### Variant annotation"
   ]
  },
  {
   "cell_type": "markdown",
   "metadata": {},
   "source": [
    "### BAM to fastq"
   ]
  },
  {
   "cell_type": "markdown",
   "metadata": {},
   "source": [
    "### *De novo* assembly - mapped reads"
   ]
  },
  {
   "cell_type": "markdown",
   "metadata": {},
   "source": [
    "### *De novo* assembly - all reads (optional)"
   ]
  },
  {
   "cell_type": "markdown",
   "metadata": {},
   "source": [
    "### Additional scaffolding"
   ]
  },
  {
   "cell_type": "markdown",
   "metadata": {},
   "source": [
    "### Assembly Quality Check"
   ]
  },
  {
   "cell_type": "markdown",
   "metadata": {},
   "source": [
    "### Outputs"
   ]
  },
  {
   "cell_type": "code",
   "execution_count": null,
   "metadata": {},
   "outputs": [],
   "source": []
  }
 ],
 "metadata": {
  "kernelspec": {
   "display_name": "Bash",
   "language": "bash",
   "name": "bash"
  },
  "language_info": {
   "codemirror_mode": "shell",
   "file_extension": ".sh",
   "mimetype": "text/x-sh",
   "name": "bash"
  }
 },
 "nbformat": 4,
 "nbformat_minor": 2
}
