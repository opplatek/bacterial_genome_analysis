{
 "cells": [
  {
   "cell_type": "markdown",
   "metadata": {},
   "source": [
    "# Treponema genome analysis workflow - Grillova et al. 2019"
   ]
  },
  {
   "cell_type": "markdown",
   "metadata": {},
   "source": [
    "## Setting up the environment"
   ]
  },
  {
   "cell_type": "markdown",
   "metadata": {},
   "source": [
    "### Requirements"
   ]
  },
  {
   "cell_type": "markdown",
   "metadata": {},
   "source": [
    "The workflows has been tested on Linux machines (Ubuntu 14.04, Debian 9) with Python 2.7.6 using Conda 4.5.11, Jupyter notebook 5.7.2 installed with Python 3.4.3 and bash_kernel 0.7.1."
   ]
  },
  {
   "cell_type": "code",
   "execution_count": 7,
   "metadata": {},
   "outputs": [
    {
     "name": "stdout",
     "output_type": "stream",
     "text": [
      "Linux thor 4.4.0-140-generic #166~14.04.1-Ubuntu SMP Sat Nov 17 01:52:43 UTC 2018 x86_64 x86_64 x86_64 GNU/Linux\n",
      "Python 2.7.6\n",
      "Python 3.4.3\n",
      "conda 4.5.11\n",
      "Jupyter notebook 5.7.2\n",
      "bash_kernel Version: 0.7.1\n"
     ]
    }
   ],
   "source": [
    "uname -a\n",
    "python --version\n",
    "python3 --version\n",
    "conda --version\n",
    "echo \"Jupyter notebook\" `jupyter notebook --version`\n",
    "echo \"bash_kernel\" `pip3 show bash_kernel | grep Version`"
   ]
  },
  {
   "cell_type": "markdown",
   "metadata": {},
   "source": [
    "### Jupyter notebook"
   ]
  },
  {
   "cell_type": "markdown",
   "metadata": {},
   "source": [
    "We will use the Jupyter notebook to run the analysis. The first step is therefore the installation of the Jupyter notebook itself. To ensure the compatibility with the Bash kernel we have to use the Python 3 version of the Jupyter notebook."
   ]
  },
  {
   "cell_type": "code",
   "execution_count": null,
   "metadata": {},
   "outputs": [],
   "source": [
    "python3 -m pip install --upgrade pip\n",
    "python3 -m pip install jupyter"
   ]
  },
  {
   "cell_type": "markdown",
   "metadata": {},
   "source": [
    "Once you have the Jupyter notebook you should install the [Bash kernel](https://pypi.org/project/bash_kernel/)."
   ]
  },
  {
   "cell_type": "code",
   "execution_count": null,
   "metadata": {},
   "outputs": [],
   "source": [
    "sudo pip3 install bash_kernel\n",
    "sudo python3 -m bash_kernel.install"
   ]
  },
  {
   "cell_type": "markdown",
   "metadata": {},
   "source": [
    "And finally launch the Jupyter notebook."
   ]
  },
  {
   "cell_type": "code",
   "execution_count": null,
   "metadata": {},
   "outputs": [],
   "source": [
    "jupyter notebook"
   ]
  },
  {
   "cell_type": "markdown",
   "metadata": {},
   "source": [
    "### Conda"
   ]
  },
  {
   "cell_type": "markdown",
   "metadata": {},
   "source": [
    "You can choose whether you install all the tools separately or use Conda environment. If you choose the Conda environemnt (recommended) you will first have to install the Conda itself. Please follow the instructions [here](https://conda.io/docs/user-guide/install/index.html). The example of installation of the Conda for 64-bit Linux is the following:"
   ]
  },
  {
   "cell_type": "code",
   "execution_count": null,
   "metadata": {},
   "outputs": [],
   "source": [
    "wget https://repo.continuum.io/archive/Anaconda2-2018.12-Linux-x86_64.sh\n",
    "bash Anaconda2-2018.12-Linux-x86_64.sh"
   ]
  },
  {
   "cell_type": "markdown",
   "metadata": {},
   "source": [
    "Once you installed the Conda environment you should install the tools and the dependencies."
   ]
  },
  {
   "cell_type": "code",
   "execution_count": null,
   "metadata": {},
   "outputs": [
    {
     "name": "stdout",
     "output_type": "stream",
     "text": [
      "Solving environment: done\n",
      "\n",
      "\n",
      "==> WARNING: A newer version of conda exists. <==\n",
      "  current version: 4.5.11\n",
      "  latest version: 4.5.12\n",
      "\n",
      "Please update conda by running\n",
      "\n",
      "    $ conda update -n base -c defaults conda\n",
      "\n",
      "\n",
      "\n",
      "## Package Plan ##\n",
      "\n",
      "  environment location: /home/jan/Tools/anaconda/envs/treponema\n",
      "\n",
      "  added / updated specs: \n",
      "    - python=2.7\n",
      "\n",
      "\n",
      "The following packages will be downloaded:\n",
      "\n",
      "    package                    |            build\n",
      "    ---------------------------|-----------------\n",
      "    python-2.7.15              |       h9bab390_6        12.8 MB\n",
      "    wheel-0.32.3               |           py27_0          34 KB\n",
      "    sqlite-3.26.0              |       h7b6447c_0         1.9 MB\n",
      "    certifi-2018.11.29         |           py27_0         146 KB\n",
      "    pip-18.1                   |           py27_0         1.8 MB\n",
      "    setuptools-40.6.3          |           py27_0         627 KB\n",
      "    ncurses-6.1                |       he6710b0_1         958 KB\n",
      "    ------------------------------------------------------------\n",
      "                                           Total:        18.1 MB\n",
      "\n",
      "The following NEW packages will be INSTALLED:\n",
      "\n",
      "    ca-certificates: 2018.03.07-0           \n",
      "    certifi:         2018.11.29-py27_0      \n",
      "    libedit:         3.1.20170329-h6b74fdf_2\n",
      "    libffi:          3.2.1-hd88cf55_4       \n",
      "    libgcc-ng:       8.2.0-hdf63c60_1       \n",
      "    libstdcxx-ng:    8.2.0-hdf63c60_1       \n",
      "    ncurses:         6.1-he6710b0_1         \n",
      "    openssl:         1.1.1a-h7b6447c_0      \n",
      "    pip:             18.1-py27_0            \n",
      "    python:          2.7.15-h9bab390_6      \n",
      "    readline:        7.0-h7b6447c_5         \n",
      "    setuptools:      40.6.3-py27_0          \n",
      "    sqlite:          3.26.0-h7b6447c_0      \n",
      "    tk:              8.6.8-hbc83047_0       \n",
      "    wheel:           0.32.3-py27_0          \n",
      "    zlib:            1.2.11-h7b6447c_3      \n",
      "\n"
     ]
    }
   ],
   "source": [
    "# Create new conda environment\n",
    "conda create --name treponema python=2.7"
   ]
  },
  {
   "cell_type": "code",
   "execution_count": null,
   "metadata": {},
   "outputs": [],
   "source": [
    "# Activate the environment and cofigure the channels\n",
    "source activate treponema\n",
    "conda config --add channels r\n",
    "conda config --add channels conda-forge\n",
    "conda config --add channels bioconda"
   ]
  },
  {
   "cell_type": "markdown",
   "metadata": {},
   "source": [
    "Most of the tools are already available in Conda so we will use this great functionality and install them."
   ]
  },
  {
   "cell_type": "code",
   "execution_count": null,
   "metadata": {},
   "outputs": [],
   "source": [
    "# Install all the required tools using Conda\n",
    "conda install -c bioconda fastqc reaper multiqc cutadapt=1.15 bbmap=37.52 samtools=1.4 seqtk=1.2 R=3.4.3 bwa=0.7.15 picard=2.9.2 gatk=3.7 ngsutils=0.5.9 qualimap=2.2.2a bcftools=1.4 vcftools=0.1.15 vcflib freebayes=0.9.21 spades=3.10.1 quast besst=2.2.7 busco=3.0.2 blast=2.2.31 snpeff=4.2"
   ]
  },
  {
   "cell_type": "markdown",
   "metadata": {},
   "source": [
    "Two tools ([jvarkit](https://github.com/lindenb/jvarkit) and [StrainSeeker](http://bioinfo.ut.ee/strainseeker/)) are not available in Conda so we have to install them separately. "
   ]
  },
  {
   "cell_type": "code",
   "execution_count": null,
   "metadata": {},
   "outputs": [],
   "source": [
    "# Install the rest of the tools which are not available through conda\n",
    "instal_dir=\"/home/jan/Tools\"\n",
    "mkdir $instal_dir\n",
    "\n",
    "# StrainSeeker and it's database\n",
    "cd $instal_dir/\n",
    "mkdir strainseeker\n",
    "cd strainseeker/\n",
    "wget http://bioinfo.ut.ee/strainseeker/downloads/seeker.pl\n",
    "wget bioinfo.ut.ee/strainseeker/downloads/builder.pl\n",
    "wget http://bioinfo.ut.ee/strainseeker/executables/ss_db_w32_4324.tar.gz\n",
    "wget http://bioinfo.ut.ee/strainseeker/downloads/ss_helper_scripts.tar.gz\n",
    "tar xvzf ss_helper_scripts.tar.gz\n",
    "\n",
    "# Jvarkit - BAM downsample\n",
    "cd $instal_dir\n",
    "wget https://github.com/lindenb/jvarkit/archive/v2018.04.05.tar.gz\n",
    "tar xvzf v2018.04.05.tar.gz\n",
    "cd jvarkit-2018.04.05/\n",
    "make sortsamrefname\n",
    "make biostar154220"
   ]
  },
  {
   "cell_type": "markdown",
   "metadata": {},
   "source": [
    "## Running the workflow"
   ]
  },
  {
   "cell_type": "markdown",
   "metadata": {},
   "source": [
    "### Inputs"
   ]
  },
  {
   "cell_type": "markdown",
   "metadata": {},
   "source": [
    "### Outputs"
   ]
  },
  {
   "cell_type": "code",
   "execution_count": null,
   "metadata": {},
   "outputs": [],
   "source": []
  }
 ],
 "metadata": {
  "kernelspec": {
   "display_name": "Bash",
   "language": "bash",
   "name": "bash"
  },
  "language_info": {
   "codemirror_mode": "shell",
   "file_extension": ".sh",
   "mimetype": "text/x-sh",
   "name": "bash"
  }
 },
 "nbformat": 4,
 "nbformat_minor": 2
}
